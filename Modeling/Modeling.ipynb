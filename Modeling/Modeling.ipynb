{
  "nbformat": 4,
  "nbformat_minor": 0,
  "metadata": {
    "colab": {
      "name": "Dan_Nir_HW3_model.ipynb",
      "version": "0.3.2",
      "views": {},
      "default_view": {},
      "provenance": [],
      "collapsed_sections": [
        "lj4j8J8BGh82",
        "AblmLvSrXS55",
        "ctim7DYDgnss",
        "vRZQWfypb3nO",
        "LPoAzLKYW_Q8",
        "fW-7sRK4y1LP",
        "movHvCXRwj6E",
        "VvBkS9udwDeR",
        "8t6FOcBK7Rgk"
      ]
    }
  },
  "cells": [
    {
      "metadata": {
        "id": "qeRp6NF8cID8",
        "colab_type": "text"
      },
      "source": [
        "# Exercise 3: Mandatory Assignment\n",
        "#B. Prediction Model"
      ],
      "cell_type": "markdown"
    },
    {
      "metadata": {
        "id": "5_696gdpcLAz",
        "colab_type": "text"
      },
      "source": [
        "## Project Imports"
      ],
      "cell_type": "markdown"
    },
    {
      "metadata": {
        "id": "ZGVXxJLoamr5",
        "colab_type": "code",
        "colab": {
          "autoexec": {
            "startup": false,
            "wait_interval": 0
          }
        }
      },
      "source": [
        "import matplotlib.pyplot as plt\n",
        "import matplotlib.font_manager\n",
        "%matplotlib inline\n",
        "import numpy as np\n",
        "import pandas as pd\n",
        "import matplotlib\n",
        "import scipy as sp\n",
        "import pylab as P\n",
        "import random\n",
        "\n",
        "from sklearn.neighbors import KNeighborsClassifier\n",
        "\n",
        "# Install the PyDrive wrapper & import libraries.\n",
        "# This only needs to be done once per notebook.\n",
        "!pip install -U -q PyDrive\n",
        "from pydrive.auth import GoogleAuth\n",
        "from pydrive.drive import GoogleDrive\n",
        "from google.colab import auth\n",
        "from oauth2client.client import GoogleCredentials\n",
        "\n",
        "auth.authenticate_user()\n",
        "gauth = GoogleAuth()\n",
        "gauth.credentials = GoogleCredentials.get_application_default()\n",
        "drive = GoogleDrive(gauth)"
      ],
      "cell_type": "code",
      "execution_count": 0,
      "outputs": []
    },
    {
      "metadata": {
        "id": "2oP2GfFFcNJ8",
        "colab_type": "text"
      },
      "source": [
        "# 1. Load the prepared training set"
      ],
      "cell_type": "markdown"
    },
    {
      "metadata": {
        "id": "mVExgyygUupy",
        "colab_type": "text"
      },
      "source": [
        "##  First run \"!ls\" command to check if it's already in the vm"
      ],
      "cell_type": "markdown"
    },
    {
      "metadata": {
        "id": "mfErdZkCchFE",
        "colab_type": "code",
        "colab": {
          "autoexec": {
            "startup": false,
            "wait_interval": 0
          },
          "output_extras": [
            {
              "item_id": 2
            }
          ],
          "base_uri": "https://localhost:8080/",
          "height": 51
        },
        "outputId": "ab717ffb-fc75-4707-e2cd-c13c9fea5320",
        "executionInfo": {
          "status": "ok",
          "timestamp": 1514042934803,
          "user_tz": -120,
          "elapsed": 4286,
          "user": {
            "displayName": "Dan Nir",
            "photoUrl": "https://lh3.googleusercontent.com/a/default-user=s128",
            "userId": "108190517583252561596"
          }
        }
      },
      "source": [
        "!mkdir BAK\n",
        "!cp *.csv BAK/\n",
        "!rm *.csv\n",
        "!ls"
      ],
      "cell_type": "code",
      "execution_count": 58,
      "outputs": [
        {
          "output_type": "stream",
          "text": [
            "mkdir: cannot create directory ‘BAK’: File exists\n",
            "BAK  datalab\n"
          ],
          "name": "stdout"
        }
      ]
    },
    {
      "metadata": {
        "id": "qfiSPcxkycoj",
        "colab_type": "text"
      },
      "source": [
        "## Download the train dataset from the cloud storage"
      ],
      "cell_type": "markdown"
    },
    {
      "metadata": {
        "id": "34M7YNjk27QM",
        "colab_type": "code",
        "colab": {
          "autoexec": {
            "startup": false,
            "wait_interval": 0
          }
        }
      },
      "source": [
        "downloaded = drive.CreateFile({'id': '1mwrxBXZsgHLFO9IpWYXNfUFJnLT5yraj'})\n",
        "downloaded.GetContentFile('train_X.csv')\n",
        "\n",
        "downloaded = drive.CreateFile({'id': '1FHPumn9bdXiLzO5tbpGGrcvxzNpoCG0Z'})\n",
        "downloaded.GetContentFile('train_y.csv')\n",
        "\n",
        "## we don't touch the Test-set until the end, so commented out.\n",
        "#downloaded = drive.CreateFile({'id': '10F4pfym7OgqvT1xu6Bo27WqpZjsGhhih'})\n",
        "#downloaded.GetContentFile('test_X.csv')\n",
        "\n",
        "#downloaded = drive.CreateFile({'id': '1uGX6RQFot5gww3vExfpeg1GFR8ZMFYPX'})\n",
        "#downloaded.GetContentFile('test_y.csv')"
      ],
      "cell_type": "code",
      "execution_count": 0,
      "outputs": []
    },
    {
      "metadata": {
        "id": "GJkAqqcWa-aT",
        "colab_type": "code",
        "colab": {
          "autoexec": {
            "startup": false,
            "wait_interval": 0
          },
          "output_extras": [
            {
              "item_id": 1
            }
          ],
          "base_uri": "https://localhost:8080/",
          "height": 34
        },
        "outputId": "8f6a4a06-ca79-4b88-c693-821ed15ea188",
        "executionInfo": {
          "status": "ok",
          "timestamp": 1514042938727,
          "user_tz": -120,
          "elapsed": 1439,
          "user": {
            "displayName": "Dan Nir",
            "photoUrl": "https://lh3.googleusercontent.com/a/default-user=s128",
            "userId": "108190517583252561596"
          }
        }
      },
      "source": [
        "!ls"
      ],
      "cell_type": "code",
      "execution_count": 60,
      "outputs": [
        {
          "output_type": "stream",
          "text": [
            "BAK  datalab  train_X.csv  train_y.csv\r\n"
          ],
          "name": "stdout"
        }
      ]
    },
    {
      "metadata": {
        "id": "qrJbAidcyw9C",
        "colab_type": "text"
      },
      "source": [
        "## Load the train set into dataframes (X, y)"
      ],
      "cell_type": "markdown"
    },
    {
      "metadata": {
        "id": "PBII1i5QbAhL",
        "colab_type": "code",
        "colab": {
          "autoexec": {
            "startup": false,
            "wait_interval": 0
          }
        }
      },
      "source": [
        "train_X =      pd.read_csv(\"train_X.csv\", header=0)\n",
        "train_y =      pd.read_csv(\"train_y.csv\", header=None)\n",
        "#train_y.columns = [\"Vote\"]\n",
        "\n",
        "# fix df_label as df_label[0] for easy writing..\n",
        "train_y = train_y[0]"
      ],
      "cell_type": "code",
      "execution_count": 0,
      "outputs": []
    },
    {
      "metadata": {
        "id": "1zkuiECWzj8J",
        "colab_type": "text"
      },
      "source": [
        "## View the loaded training set"
      ],
      "cell_type": "markdown"
    },
    {
      "metadata": {
        "id": "d0pa8YFLbE-z",
        "colab_type": "code",
        "colab": {
          "autoexec": {
            "startup": false,
            "wait_interval": 0
          },
          "output_extras": [
            {
              "item_id": 1
            },
            {
              "item_id": 2
            }
          ],
          "base_uri": "https://localhost:8080/",
          "height": 598
        },
        "outputId": "a8f8db91-169c-4446-f744-1fe5c1212ad4",
        "executionInfo": {
          "status": "ok",
          "timestamp": 1514042940213,
          "user_tz": -120,
          "elapsed": 524,
          "user": {
            "displayName": "Dan Nir",
            "photoUrl": "https://lh3.googleusercontent.com/a/default-user=s128",
            "userId": "108190517583252561596"
          }
        }
      },
      "source": [
        "train_X.info()\n",
        "train_X.head(5)"
      ],
      "cell_type": "code",
      "execution_count": 62,
      "outputs": [
        {
          "output_type": "stream",
          "text": [
            "<class 'pandas.core.frame.DataFrame'>\n",
            "RangeIndex: 5831 entries, 0 to 5830\n",
            "Data columns (total 17 columns):\n",
            "Number_of_valued_Kneset_members                  5831 non-null float64\n",
            "Yearly_IncomeK                                   5831 non-null float64\n",
            "Overall_happiness_score                          5831 non-null float64\n",
            "Avg_Satisfaction_with_previous_vote              5831 non-null float64\n",
            "Garden_sqr_meter_per_person_in_residancy_area    5831 non-null float64\n",
            "Weighted_education_rank                          5831 non-null float64\n",
            "Will_vote_only_large_party_1.0                   5831 non-null int64\n",
            "Will_vote_only_large_party_0.0                   5831 non-null int64\n",
            "Will_vote_only_large_party_2.0                   5831 non-null int64\n",
            "Most_Important_Issue_4.0                         5831 non-null int64\n",
            "Most_Important_Issue_1.0                         5831 non-null int64\n",
            "Most_Important_Issue_7.0                         5831 non-null int64\n",
            "Most_Important_Issue_5.0                         5831 non-null int64\n",
            "Most_Important_Issue_2.0                         5831 non-null int64\n",
            "Most_Important_Issue_0.0                         5831 non-null int64\n",
            "Most_Important_Issue_6.0                         5831 non-null int64\n",
            "Most_Important_Issue_3.0                         5831 non-null int64\n",
            "dtypes: float64(6), int64(11)\n",
            "memory usage: 774.5 KB\n"
          ],
          "name": "stdout"
        },
        {
          "output_type": "execute_result",
          "data": {
            "text/html": [
              "<div>\n",
              "<style>\n",
              "    .dataframe thead tr:only-child th {\n",
              "        text-align: right;\n",
              "    }\n",
              "\n",
              "    .dataframe thead th {\n",
              "        text-align: left;\n",
              "    }\n",
              "\n",
              "    .dataframe tbody tr th {\n",
              "        vertical-align: top;\n",
              "    }\n",
              "</style>\n",
              "<table border=\"1\" class=\"dataframe\">\n",
              "  <thead>\n",
              "    <tr style=\"text-align: right;\">\n",
              "      <th></th>\n",
              "      <th>Number_of_valued_Kneset_members</th>\n",
              "      <th>Yearly_IncomeK</th>\n",
              "      <th>Overall_happiness_score</th>\n",
              "      <th>Avg_Satisfaction_with_previous_vote</th>\n",
              "      <th>Garden_sqr_meter_per_person_in_residancy_area</th>\n",
              "      <th>Weighted_education_rank</th>\n",
              "      <th>Will_vote_only_large_party_1.0</th>\n",
              "      <th>Will_vote_only_large_party_0.0</th>\n",
              "      <th>Will_vote_only_large_party_2.0</th>\n",
              "      <th>Most_Important_Issue_4.0</th>\n",
              "      <th>Most_Important_Issue_1.0</th>\n",
              "      <th>Most_Important_Issue_7.0</th>\n",
              "      <th>Most_Important_Issue_5.0</th>\n",
              "      <th>Most_Important_Issue_2.0</th>\n",
              "      <th>Most_Important_Issue_0.0</th>\n",
              "      <th>Most_Important_Issue_6.0</th>\n",
              "      <th>Most_Important_Issue_3.0</th>\n",
              "    </tr>\n",
              "  </thead>\n",
              "  <tbody>\n",
              "    <tr>\n",
              "      <th>0</th>\n",
              "      <td>9.0</td>\n",
              "      <td>-1.135556</td>\n",
              "      <td>-4.210137</td>\n",
              "      <td>2.806640</td>\n",
              "      <td>-0.919437</td>\n",
              "      <td>3.395327</td>\n",
              "      <td>0</td>\n",
              "      <td>0</td>\n",
              "      <td>1</td>\n",
              "      <td>0</td>\n",
              "      <td>0</td>\n",
              "      <td>0</td>\n",
              "      <td>0</td>\n",
              "      <td>1</td>\n",
              "      <td>0</td>\n",
              "      <td>0</td>\n",
              "      <td>0</td>\n",
              "    </tr>\n",
              "    <tr>\n",
              "      <th>1</th>\n",
              "      <td>14.0</td>\n",
              "      <td>-0.674079</td>\n",
              "      <td>0.886686</td>\n",
              "      <td>1.802433</td>\n",
              "      <td>-0.102686</td>\n",
              "      <td>-0.133469</td>\n",
              "      <td>0</td>\n",
              "      <td>0</td>\n",
              "      <td>1</td>\n",
              "      <td>0</td>\n",
              "      <td>0</td>\n",
              "      <td>0</td>\n",
              "      <td>0</td>\n",
              "      <td>0</td>\n",
              "      <td>1</td>\n",
              "      <td>0</td>\n",
              "      <td>0</td>\n",
              "    </tr>\n",
              "    <tr>\n",
              "      <th>2</th>\n",
              "      <td>8.0</td>\n",
              "      <td>-0.965695</td>\n",
              "      <td>0.340745</td>\n",
              "      <td>-0.450976</td>\n",
              "      <td>0.477329</td>\n",
              "      <td>-0.416028</td>\n",
              "      <td>0</td>\n",
              "      <td>1</td>\n",
              "      <td>0</td>\n",
              "      <td>0</td>\n",
              "      <td>0</td>\n",
              "      <td>0</td>\n",
              "      <td>1</td>\n",
              "      <td>0</td>\n",
              "      <td>0</td>\n",
              "      <td>0</td>\n",
              "      <td>0</td>\n",
              "    </tr>\n",
              "    <tr>\n",
              "      <th>3</th>\n",
              "      <td>6.0</td>\n",
              "      <td>-0.093311</td>\n",
              "      <td>-0.093619</td>\n",
              "      <td>-0.650299</td>\n",
              "      <td>0.733155</td>\n",
              "      <td>-1.309064</td>\n",
              "      <td>1</td>\n",
              "      <td>0</td>\n",
              "      <td>0</td>\n",
              "      <td>0</td>\n",
              "      <td>0</td>\n",
              "      <td>0</td>\n",
              "      <td>0</td>\n",
              "      <td>1</td>\n",
              "      <td>0</td>\n",
              "      <td>0</td>\n",
              "      <td>0</td>\n",
              "    </tr>\n",
              "    <tr>\n",
              "      <th>4</th>\n",
              "      <td>6.0</td>\n",
              "      <td>2.259453</td>\n",
              "      <td>0.146151</td>\n",
              "      <td>0.304831</td>\n",
              "      <td>2.579338</td>\n",
              "      <td>0.818161</td>\n",
              "      <td>1</td>\n",
              "      <td>0</td>\n",
              "      <td>0</td>\n",
              "      <td>0</td>\n",
              "      <td>0</td>\n",
              "      <td>1</td>\n",
              "      <td>0</td>\n",
              "      <td>0</td>\n",
              "      <td>0</td>\n",
              "      <td>0</td>\n",
              "      <td>0</td>\n",
              "    </tr>\n",
              "  </tbody>\n",
              "</table>\n",
              "</div>"
            ],
            "text/plain": [
              "   Number_of_valued_Kneset_members  Yearly_IncomeK  Overall_happiness_score  \\\n",
              "0                              9.0       -1.135556                -4.210137   \n",
              "1                             14.0       -0.674079                 0.886686   \n",
              "2                              8.0       -0.965695                 0.340745   \n",
              "3                              6.0       -0.093311                -0.093619   \n",
              "4                              6.0        2.259453                 0.146151   \n",
              "\n",
              "   Avg_Satisfaction_with_previous_vote  \\\n",
              "0                             2.806640   \n",
              "1                             1.802433   \n",
              "2                            -0.450976   \n",
              "3                            -0.650299   \n",
              "4                             0.304831   \n",
              "\n",
              "   Garden_sqr_meter_per_person_in_residancy_area  Weighted_education_rank  \\\n",
              "0                                      -0.919437                 3.395327   \n",
              "1                                      -0.102686                -0.133469   \n",
              "2                                       0.477329                -0.416028   \n",
              "3                                       0.733155                -1.309064   \n",
              "4                                       2.579338                 0.818161   \n",
              "\n",
              "   Will_vote_only_large_party_1.0  Will_vote_only_large_party_0.0  \\\n",
              "0                               0                               0   \n",
              "1                               0                               0   \n",
              "2                               0                               1   \n",
              "3                               1                               0   \n",
              "4                               1                               0   \n",
              "\n",
              "   Will_vote_only_large_party_2.0  Most_Important_Issue_4.0  \\\n",
              "0                               1                         0   \n",
              "1                               1                         0   \n",
              "2                               0                         0   \n",
              "3                               0                         0   \n",
              "4                               0                         0   \n",
              "\n",
              "   Most_Important_Issue_1.0  Most_Important_Issue_7.0  \\\n",
              "0                         0                         0   \n",
              "1                         0                         0   \n",
              "2                         0                         0   \n",
              "3                         0                         0   \n",
              "4                         0                         1   \n",
              "\n",
              "   Most_Important_Issue_5.0  Most_Important_Issue_2.0  \\\n",
              "0                         0                         1   \n",
              "1                         0                         0   \n",
              "2                         1                         0   \n",
              "3                         0                         1   \n",
              "4                         0                         0   \n",
              "\n",
              "   Most_Important_Issue_0.0  Most_Important_Issue_6.0  \\\n",
              "0                         0                         0   \n",
              "1                         1                         0   \n",
              "2                         0                         0   \n",
              "3                         0                         0   \n",
              "4                         0                         0   \n",
              "\n",
              "   Most_Important_Issue_3.0  \n",
              "0                         0  \n",
              "1                         0  \n",
              "2                         0  \n",
              "3                         0  \n",
              "4                         0  "
            ]
          },
          "metadata": {
            "tags": []
          },
          "execution_count": 62
        }
      ]
    },
    {
      "metadata": {
        "id": "rgjuDQ9bVp0M",
        "colab_type": "code",
        "colab": {
          "autoexec": {
            "startup": false,
            "wait_interval": 0
          },
          "output_extras": [
            {
              "item_id": 1
            }
          ],
          "base_uri": "https://localhost:8080/",
          "height": 119
        },
        "outputId": "eccdc91a-d68c-4cb9-a924-68fcfe2dd6b0",
        "executionInfo": {
          "status": "ok",
          "timestamp": 1514042941256,
          "user_tz": -120,
          "elapsed": 616,
          "user": {
            "displayName": "Dan Nir",
            "photoUrl": "https://lh3.googleusercontent.com/a/default-user=s128",
            "userId": "108190517583252561596"
          }
        }
      },
      "source": [
        "#train_y.info()\n",
        "train_y.head(5)"
      ],
      "cell_type": "code",
      "execution_count": 63,
      "outputs": [
        {
          "output_type": "execute_result",
          "data": {
            "text/plain": [
              "0    0.0\n",
              "1    0.0\n",
              "2    4.0\n",
              "3    1.0\n",
              "4    5.0\n",
              "Name: 0, dtype: float64"
            ]
          },
          "metadata": {
            "tags": []
          },
          "execution_count": 63
        }
      ]
    },
    {
      "metadata": {
        "id": "MVI3mbyTckvG",
        "colab_type": "text"
      },
      "source": [
        "# 2. Train at least two models "
      ],
      "cell_type": "markdown"
    },
    {
      "metadata": {
        "id": "MXFocf-4V2Rg",
        "colab_type": "text"
      },
      "source": [
        "## Each training should be done via cross-validation on the training set, to maximize performance of the model while avoiding overfitting"
      ],
      "cell_type": "markdown"
    },
    {
      "metadata": {
        "id": "-576eNwgQS_v",
        "colab_type": "text"
      },
      "source": [
        "### Utility Methods"
      ],
      "cell_type": "markdown"
    },
    {
      "metadata": {
        "id": "qgE3ClUdQSA3",
        "colab_type": "code",
        "colab": {
          "autoexec": {
            "startup": false,
            "wait_interval": 0
          }
        }
      },
      "source": [
        "def group_by_count(list):\n",
        "  result = {}\n",
        "  for item in list:\n",
        "    if item in result:\n",
        "      result[item] += 1\n",
        "    else:\n",
        "      result[item] = 1\n",
        "  return result"
      ],
      "cell_type": "code",
      "execution_count": 0,
      "outputs": []
    },
    {
      "metadata": {
        "id": "ehb8BKsRG24n",
        "colab_type": "code",
        "colab": {
          "autoexec": {
            "startup": false,
            "wait_interval": 0
          }
        }
      },
      "source": [
        "import operator\n",
        "\n",
        "def get_model_best_scoring_method(scores_dictionary):\n",
        "  return max(scores_dictionary.iteritems(), key=operator.itemgetter(1))[0]\n",
        "  \n",
        "def get_model_best_score(scores_dictionary):\n",
        "  return scores_dictionary[max(scores_dictionary.iteritems(), key=operator.itemgetter(1))[0]][0]\n",
        "\n",
        "def get_model_best_configuration(scores_dictionary):\n",
        "  return scores_dictionary[max(scores_dictionary.iteritems(), key=operator.itemgetter(1))[0]][1]"
      ],
      "cell_type": "code",
      "execution_count": 0,
      "outputs": []
    },
    {
      "metadata": {
        "id": "TV1EXc3bJPzz",
        "colab_type": "code",
        "colab": {
          "autoexec": {
            "startup": false,
            "wait_interval": 0
          }
        }
      },
      "source": [
        "def show_model_results(model_name, scores_dictionary):\n",
        "  model_best_score = get_model_best_score(scores_dict)\n",
        "  model_best_config = get_model_best_configuration(scores_dict)\n",
        "  model_best_scoring_method = get_model_best_scoring_method(scores_dict)\n",
        "  \n",
        "  print \"Best scoring method: {0}\".format(model_best_scoring_method)\n",
        "  print \"Max score for {0} classifier model: {1}\".format(model_name, model_best_score)\n",
        "  print \"Model best configuration: {0}\".format(model_best_config)\n",
        "  \n",
        "  return (model_best_score, model_best_config)"
      ],
      "cell_type": "code",
      "execution_count": 0,
      "outputs": []
    },
    {
      "metadata": {
        "id": "nOyLpd6QCSkw",
        "colab_type": "code",
        "colab": {
          "autoexec": {
            "startup": false,
            "wait_interval": 0
          }
        }
      },
      "source": [
        "from sklearn.model_selection import StratifiedKFold\n",
        "from sklearn.model_selection import GridSearchCV\n",
        "from sklearn.metrics import confusion_matrix\n",
        "from sklearn.metrics import classification_report\n",
        "\n",
        "# TODO: Notice - weighted is a form of macro which take to account for label imbalance\n",
        "#scoring = ['accuracy', 'precision_macro', 'recall_macro', 'f1_macro']\n",
        "#scoring = ['accuracy', 'precision_weighted', 'recall_weighted', 'f1_weighted']\n",
        "scoring = ['accuracy', 'precision_weighted']\n",
        "\n",
        "def parameter_estimation_gridsearch_cv(X, y, estimator, tuned_parameters, k_fold=5):\n",
        "  score_best_parameters = {}\n",
        "  for score in scoring:\n",
        "    print \"# Tuning parameters for scoring method: {0}\".format(score)\n",
        "    print \"\"\n",
        "    #clf = GridSearchCV(estimator, tuned_parameters, cv=k_fold, scoring=score)\n",
        "    clf = GridSearchCV(estimator, tuned_parameters, cv=StratifiedKFold(n_splits=k_fold), scoring=score)\n",
        "    clf.fit(X, y)\n",
        "    print \"Best parameters set found on development set: {0}, with score: {1}\".format(clf.best_params_, clf.best_score_)\n",
        "    print \"\"\n",
        "    print \"Grid scores on development set:\"  \n",
        "    means = clf.cv_results_['mean_test_score']\n",
        "    stds = clf.cv_results_['std_test_score']\n",
        "    for mean, std, params in zip(means, stds, clf.cv_results_['params']):\n",
        "        print(\"%0.3f (+/-%0.03f) for %r\" % (mean, std * 2, params))\n",
        "    print \"\"\n",
        "    print \"The model is trained on the development set.\"\n",
        "    true_y, pred_y = y, clf.predict(X)\n",
        "    print \"The scores are computed on the evaluation set.\"    \n",
        "    print \"\"\n",
        "    print \"Detailed classification report:\"\n",
        "    print \"\"    \n",
        "    print classification_report(true_y, pred_y)\n",
        "    print \"\"\n",
        "    print \"Detailed confusion matrix:\"\n",
        "    print \"\"\n",
        "    clf_confusion_matrix = confusion_matrix(true_y, pred_y)\n",
        "    print clf_confusion_matrix\n",
        "    print \"\"\n",
        "    score_best_parameters[score] = (clf.best_score_, clf.best_params_, clf_confusion_matrix)\n",
        "  return score_best_parameters "
      ],
      "cell_type": "code",
      "execution_count": 0,
      "outputs": []
    },
    {
      "metadata": {
        "id": "ZtdrOliO3wyK",
        "colab_type": "code",
        "colab": {
          "autoexec": {
            "startup": false,
            "wait_interval": 0
          }
        }
      },
      "source": [
        "def plot_parameter_evaluation(x_label, y_label, x_values, y_values):\n",
        "  plt.plot(x_values, y_values)\n",
        "  plt.xlabel(x_label)\n",
        "  plt.ylabel(y_label)"
      ],
      "cell_type": "code",
      "execution_count": 0,
      "outputs": []
    },
    {
      "metadata": {
        "id": "jAqBE3WHBKva",
        "colab_type": "text"
      },
      "source": [
        "### Initialization"
      ],
      "cell_type": "markdown"
    },
    {
      "metadata": {
        "id": "PLSIQTrCBNCm",
        "colab_type": "code",
        "colab": {
          "autoexec": {
            "startup": false,
            "wait_interval": 0
          }
        }
      },
      "source": [
        "models_score_dictionary = {}\n",
        "models_classifiers_dictionary = {}"
      ],
      "cell_type": "code",
      "execution_count": 0,
      "outputs": []
    },
    {
      "metadata": {
        "id": "mQmKadHHvptP",
        "colab_type": "text"
      },
      "source": [
        "## First Model: KNN - K Nearest Neighbors"
      ],
      "cell_type": "markdown"
    },
    {
      "metadata": {
        "id": "lj4j8J8BGh82",
        "colab_type": "text"
      },
      "source": [
        "### We'll optimize the model configuration using various scoring methods"
      ],
      "cell_type": "markdown"
    },
    {
      "metadata": {
        "id": "2gdwDUTTGhUc",
        "colab_type": "code",
        "colab": {
          "autoexec": {
            "startup": false,
            "wait_interval": 0
          }
        }
      },
      "source": [
        "from sklearn.neighbors import KNeighborsClassifier\n",
        "\n",
        "tuned_parameters = {'n_neighbors': range(3, 15),\n",
        "                    'algorithm': ['auto'],\n",
        "                    'weights': ['uniform', 'distance']}\n",
        "\n",
        "scores_dict = parameter_estimation_gridsearch_cv(train_X, train_y, KNeighborsClassifier(), tuned_parameters)"
      ],
      "cell_type": "code",
      "execution_count": 0,
      "outputs": []
    },
    {
      "metadata": {
        "id": "83q3vnVYI6Su",
        "colab_type": "code",
        "colab": {
          "autoexec": {
            "startup": false,
            "wait_interval": 0
          },
          "output_extras": [
            {
              "item_id": 1
            }
          ],
          "base_uri": "https://localhost:8080/",
          "height": 51
        },
        "outputId": "fd6b7cb5-b1a3-4557-e436-5f0405080b63",
        "executionInfo": {
          "status": "ok",
          "timestamp": 1513794021367,
          "user_tz": -120,
          "elapsed": 917,
          "user": {
            "displayName": "Dan Nir",
            "photoUrl": "https://lh3.googleusercontent.com/a/default-user=s128",
            "userId": "108190517583252561596"
          }
        }
      },
      "source": [
        "# Get best result for KNN\n",
        "knn_best_score, knn_best_config = show_model_results(\"KNN\", scores_dict)\n",
        "models_score_dictionary[\"KNN\"] = (knn_best_score, knn_best_config)"
      ],
      "cell_type": "code",
      "execution_count": 30,
      "outputs": [
        {
          "output_type": "stream",
          "text": [
            "Max score for KNN classifier model: 0.926770708283\n",
            "Model best configuration: {'n_neighbors': 4, 'weights': 'distance', 'algorithm': 'auto'}\n"
          ],
          "name": "stdout"
        }
      ]
    },
    {
      "metadata": {
        "id": "hxApavw26Vws",
        "colab_type": "text"
      },
      "source": [
        "### Now we'll fit the model with best configuration on the train set"
      ],
      "cell_type": "markdown"
    },
    {
      "metadata": {
        "id": "tuc4iwcUdfAB",
        "colab_type": "code",
        "colab": {
          "autoexec": {
            "startup": false,
            "wait_interval": 0
          },
          "output_extras": [
            {
              "item_id": 1
            }
          ],
          "base_uri": "https://localhost:8080/",
          "height": 68
        },
        "outputId": "81a4aa21-5361-4f63-d949-dbfdfdd75bbc",
        "executionInfo": {
          "status": "ok",
          "timestamp": 1514042963846,
          "user_tz": -120,
          "elapsed": 761,
          "user": {
            "displayName": "Dan Nir",
            "photoUrl": "https://lh3.googleusercontent.com/a/default-user=s128",
            "userId": "108190517583252561596"
          }
        }
      },
      "source": [
        "from sklearn.neighbors import KNeighborsClassifier\n",
        "\n",
        "# Instantiate model with best configuration\n",
        "#knn = KNeighborsClassifier(n_neighbors=4, weights='distance', algorithm='auto')\n",
        "\n",
        "# Instantiate model with default configuration\n",
        "knn = KNeighborsClassifier()\n",
        "\n",
        "models_classifiers_dictionary[\"KNN\"] = knn\n",
        "\n",
        "# Fit the model with train_X and train_y\n",
        "knn.fit(train_X, train_y)"
      ],
      "cell_type": "code",
      "execution_count": 71,
      "outputs": [
        {
          "output_type": "execute_result",
          "data": {
            "text/plain": [
              "KNeighborsClassifier(algorithm='auto', leaf_size=30, metric='minkowski',\n",
              "           metric_params=None, n_jobs=1, n_neighbors=5, p=2,\n",
              "           weights='uniform')"
            ]
          },
          "metadata": {
            "tags": []
          },
          "execution_count": 71
        }
      ]
    },
    {
      "metadata": {
        "id": "O7QkOq4vRnNy",
        "colab_type": "text"
      },
      "source": [
        "## Second Model: Multi-layer Perceptron    "
      ],
      "cell_type": "markdown"
    },
    {
      "metadata": {
        "id": "AblmLvSrXS55",
        "colab_type": "text"
      },
      "source": [
        "### We'll optimize the model configuration using various scoring methods"
      ],
      "cell_type": "markdown"
    },
    {
      "metadata": {
        "id": "CZdHbByrXdKc",
        "colab_type": "code",
        "colab": {
          "autoexec": {
            "startup": false,
            "wait_interval": 0
          },
          "output_extras": [
            {
              "item_id": 3
            }
          ],
          "base_uri": "https://localhost:8080/",
          "height": 2601
        },
        "outputId": "e08e4aa2-a898-4ca2-99ce-5da4fe6935ad",
        "executionInfo": {
          "status": "ok",
          "timestamp": 1513858346445,
          "user_tz": -120,
          "elapsed": 949582,
          "user": {
            "displayName": "Dan Nir",
            "photoUrl": "https://lh3.googleusercontent.com/a/default-user=s128",
            "userId": "108190517583252561596"
          }
        }
      },
      "source": [
        "from sklearn.neural_network import MLPClassifier\n",
        "\n",
        "alpha_values = 10.0 ** -np.arange(1, 5)\n",
        "\"\"\"\n",
        "tuned_parameters = {'hidden_layer_sizes': [(100,), (13,), (17, 10,)],\n",
        "                    'activation': ['logistic', 'tanh', 'relu'],\n",
        "                    'alpha': alpha_values,\n",
        "                    'learning_rate': ['constant', 'invscaling', 'adaptive']}\n",
        "\"\"\"\n",
        "tuned_parameters = {'hidden_layer_sizes': [(100,), (100, 17, 10,), (50, 25, 10,)],\n",
        "                    'activation': ['relu'],\n",
        "                    'alpha': alpha_values,\n",
        "                    'learning_rate': ['constant', 'invscaling', 'adaptive']}\n",
        "\n",
        "scores_dict = parameter_estimation_gridsearch_cv(train_X, train_y, MLPClassifier(), tuned_parameters)"
      ],
      "cell_type": "code",
      "execution_count": 19,
      "outputs": [
        {
          "output_type": "stream",
          "text": [
            "# Tuning parameters for scoring method: accuracy\n",
            "\n",
            "Best parameters set found on development set: {'alpha': 0.01, 'activation': 'relu', 'learning_rate': 'constant', 'hidden_layer_sizes': (100,)}, with score: 0.944606413994\n",
            "\n",
            "Grid scores on development set:\n",
            "0.937 (+/-0.014) for {'alpha': 0.10000000000000001, 'activation': 'relu', 'learning_rate': 'constant', 'hidden_layer_sizes': (100,)}\n",
            "0.937 (+/-0.015) for {'alpha': 0.10000000000000001, 'activation': 'relu', 'learning_rate': 'invscaling', 'hidden_layer_sizes': (100,)}\n",
            "0.937 (+/-0.012) for {'alpha': 0.10000000000000001, 'activation': 'relu', 'learning_rate': 'adaptive', 'hidden_layer_sizes': (100,)}\n",
            "0.933 (+/-0.015) for {'alpha': 0.10000000000000001, 'activation': 'relu', 'learning_rate': 'constant', 'hidden_layer_sizes': (100, 17, 10)}\n",
            "0.937 (+/-0.021) for {'alpha': 0.10000000000000001, 'activation': 'relu', 'learning_rate': 'invscaling', 'hidden_layer_sizes': (100, 17, 10)}\n",
            "0.932 (+/-0.020) for {'alpha': 0.10000000000000001, 'activation': 'relu', 'learning_rate': 'adaptive', 'hidden_layer_sizes': (100, 17, 10)}\n",
            "0.937 (+/-0.009) for {'alpha': 0.10000000000000001, 'activation': 'relu', 'learning_rate': 'constant', 'hidden_layer_sizes': (50, 25, 10)}\n",
            "0.930 (+/-0.029) for {'alpha': 0.10000000000000001, 'activation': 'relu', 'learning_rate': 'invscaling', 'hidden_layer_sizes': (50, 25, 10)}\n",
            "0.941 (+/-0.014) for {'alpha': 0.10000000000000001, 'activation': 'relu', 'learning_rate': 'adaptive', 'hidden_layer_sizes': (50, 25, 10)}\n",
            "0.945 (+/-0.010) for {'alpha': 0.01, 'activation': 'relu', 'learning_rate': 'constant', 'hidden_layer_sizes': (100,)}\n",
            "0.942 (+/-0.013) for {'alpha': 0.01, 'activation': 'relu', 'learning_rate': 'invscaling', 'hidden_layer_sizes': (100,)}\n",
            "0.942 (+/-0.015) for {'alpha': 0.01, 'activation': 'relu', 'learning_rate': 'adaptive', 'hidden_layer_sizes': (100,)}\n",
            "0.936 (+/-0.021) for {'alpha': 0.01, 'activation': 'relu', 'learning_rate': 'constant', 'hidden_layer_sizes': (100, 17, 10)}\n",
            "0.936 (+/-0.016) for {'alpha': 0.01, 'activation': 'relu', 'learning_rate': 'invscaling', 'hidden_layer_sizes': (100, 17, 10)}\n",
            "0.936 (+/-0.023) for {'alpha': 0.01, 'activation': 'relu', 'learning_rate': 'adaptive', 'hidden_layer_sizes': (100, 17, 10)}\n",
            "0.941 (+/-0.012) for {'alpha': 0.01, 'activation': 'relu', 'learning_rate': 'constant', 'hidden_layer_sizes': (50, 25, 10)}\n",
            "0.938 (+/-0.007) for {'alpha': 0.01, 'activation': 'relu', 'learning_rate': 'invscaling', 'hidden_layer_sizes': (50, 25, 10)}\n",
            "0.933 (+/-0.018) for {'alpha': 0.01, 'activation': 'relu', 'learning_rate': 'adaptive', 'hidden_layer_sizes': (50, 25, 10)}\n",
            "0.943 (+/-0.012) for {'alpha': 0.001, 'activation': 'relu', 'learning_rate': 'constant', 'hidden_layer_sizes': (100,)}\n",
            "0.941 (+/-0.009) for {'alpha': 0.001, 'activation': 'relu', 'learning_rate': 'invscaling', 'hidden_layer_sizes': (100,)}\n",
            "0.938 (+/-0.014) for {'alpha': 0.001, 'activation': 'relu', 'learning_rate': 'adaptive', 'hidden_layer_sizes': (100,)}\n",
            "0.941 (+/-0.011) for {'alpha': 0.001, 'activation': 'relu', 'learning_rate': 'constant', 'hidden_layer_sizes': (100, 17, 10)}\n",
            "0.939 (+/-0.010) for {'alpha': 0.001, 'activation': 'relu', 'learning_rate': 'invscaling', 'hidden_layer_sizes': (100, 17, 10)}\n",
            "0.936 (+/-0.021) for {'alpha': 0.001, 'activation': 'relu', 'learning_rate': 'adaptive', 'hidden_layer_sizes': (100, 17, 10)}\n",
            "0.937 (+/-0.019) for {'alpha': 0.001, 'activation': 'relu', 'learning_rate': 'constant', 'hidden_layer_sizes': (50, 25, 10)}\n",
            "0.938 (+/-0.020) for {'alpha': 0.001, 'activation': 'relu', 'learning_rate': 'invscaling', 'hidden_layer_sizes': (50, 25, 10)}\n",
            "0.940 (+/-0.016) for {'alpha': 0.001, 'activation': 'relu', 'learning_rate': 'adaptive', 'hidden_layer_sizes': (50, 25, 10)}\n",
            "0.942 (+/-0.006) for {'alpha': 0.0001, 'activation': 'relu', 'learning_rate': 'constant', 'hidden_layer_sizes': (100,)}\n",
            "0.943 (+/-0.006) for {'alpha': 0.0001, 'activation': 'relu', 'learning_rate': 'invscaling', 'hidden_layer_sizes': (100,)}\n",
            "0.943 (+/-0.013) for {'alpha': 0.0001, 'activation': 'relu', 'learning_rate': 'adaptive', 'hidden_layer_sizes': (100,)}\n",
            "0.937 (+/-0.011) for {'alpha': 0.0001, 'activation': 'relu', 'learning_rate': 'constant', 'hidden_layer_sizes': (100, 17, 10)}\n",
            "0.934 (+/-0.021) for {'alpha': 0.0001, 'activation': 'relu', 'learning_rate': 'invscaling', 'hidden_layer_sizes': (100, 17, 10)}\n",
            "0.943 (+/-0.013) for {'alpha': 0.0001, 'activation': 'relu', 'learning_rate': 'adaptive', 'hidden_layer_sizes': (100, 17, 10)}\n",
            "0.932 (+/-0.020) for {'alpha': 0.0001, 'activation': 'relu', 'learning_rate': 'constant', 'hidden_layer_sizes': (50, 25, 10)}\n",
            "0.938 (+/-0.016) for {'alpha': 0.0001, 'activation': 'relu', 'learning_rate': 'invscaling', 'hidden_layer_sizes': (50, 25, 10)}\n",
            "0.940 (+/-0.013) for {'alpha': 0.0001, 'activation': 'relu', 'learning_rate': 'adaptive', 'hidden_layer_sizes': (50, 25, 10)}\n",
            "\n",
            "The model is trained on the development set.\n",
            "The scores are computed on the evaluation set.\n",
            "\n",
            "Detailed classification report:\n",
            "\n",
            "             precision    recall  f1-score   support\n",
            "\n",
            "        0.0       0.93      0.89      0.91       484\n",
            "        1.0       0.92      0.97      0.95      1115\n",
            "        2.0       1.00      1.00      1.00       977\n",
            "        3.0       0.98      0.96      0.97       331\n",
            "        4.0       0.96      0.96      0.96       320\n",
            "        5.0       0.98      0.89      0.93       627\n",
            "        6.0       0.98      0.99      0.99      1240\n",
            "        7.0       0.97      0.98      0.98       325\n",
            "        8.0       0.93      0.81      0.87       202\n",
            "        9.0       0.76      0.85      0.80       210\n",
            "\n",
            "avg / total       0.96      0.96      0.96      5831\n",
            "\n",
            "\n",
            "Detailed confusion matrix:\n",
            "\n",
            "[[ 429    0    0    0    0    0    0    0    0   55]\n",
            " [   0 1086    0    0    0   10   11    0    8    0]\n",
            " [   0    0  977    0    0    0    0    0    0    0]\n",
            " [   0    0    0  319    8    0    0    4    0    0]\n",
            " [   0    0    0    7  308    0    0    5    0    0]\n",
            " [   0   58    0    0    0  556   10    0    3    0]\n",
            " [   0    5    1    0    0    0 1233    0    1    0]\n",
            " [   0    0    0    1    4    0    0  320    0    0]\n",
            " [   0   32    0    0    0    4    2    0  164    0]\n",
            " [  32    0    0    0    0    0    0    0    0  178]]\n",
            "\n",
            "# Tuning parameters for scoring method: precision_weighted\n",
            "\n",
            "Best parameters set found on development set: {'alpha': 0.01, 'activation': 'relu', 'learning_rate': 'invscaling', 'hidden_layer_sizes': (100,)}, with score: 0.944950957204\n",
            "\n",
            "Grid scores on development set:\n",
            "0.935 (+/-0.012) for {'alpha': 0.10000000000000001, 'activation': 'relu', 'learning_rate': 'constant', 'hidden_layer_sizes': (100,)}\n",
            "0.936 (+/-0.015) for {'alpha': 0.10000000000000001, 'activation': 'relu', 'learning_rate': 'invscaling', 'hidden_layer_sizes': (100,)}\n",
            "0.937 (+/-0.012) for {'alpha': 0.10000000000000001, 'activation': 'relu', 'learning_rate': 'adaptive', 'hidden_layer_sizes': (100,)}\n",
            "0.941 (+/-0.015) for {'alpha': 0.10000000000000001, 'activation': 'relu', 'learning_rate': 'constant', 'hidden_layer_sizes': (100, 17, 10)}\n",
            "0.936 (+/-0.012) for {'alpha': 0.10000000000000001, 'activation': 'relu', 'learning_rate': 'invscaling', 'hidden_layer_sizes': (100, 17, 10)}\n",
            "0.940 (+/-0.018) for {'alpha': 0.10000000000000001, 'activation': 'relu', 'learning_rate': 'adaptive', 'hidden_layer_sizes': (100, 17, 10)}\n",
            "0.936 (+/-0.008) for {'alpha': 0.10000000000000001, 'activation': 'relu', 'learning_rate': 'constant', 'hidden_layer_sizes': (50, 25, 10)}\n",
            "0.936 (+/-0.015) for {'alpha': 0.10000000000000001, 'activation': 'relu', 'learning_rate': 'invscaling', 'hidden_layer_sizes': (50, 25, 10)}\n",
            "0.937 (+/-0.015) for {'alpha': 0.10000000000000001, 'activation': 'relu', 'learning_rate': 'adaptive', 'hidden_layer_sizes': (50, 25, 10)}\n",
            "0.942 (+/-0.013) for {'alpha': 0.01, 'activation': 'relu', 'learning_rate': 'constant', 'hidden_layer_sizes': (100,)}\n",
            "0.945 (+/-0.010) for {'alpha': 0.01, 'activation': 'relu', 'learning_rate': 'invscaling', 'hidden_layer_sizes': (100,)}\n",
            "0.941 (+/-0.009) for {'alpha': 0.01, 'activation': 'relu', 'learning_rate': 'adaptive', 'hidden_layer_sizes': (100,)}\n",
            "0.941 (+/-0.015) for {'alpha': 0.01, 'activation': 'relu', 'learning_rate': 'constant', 'hidden_layer_sizes': (100, 17, 10)}\n",
            "0.935 (+/-0.009) for {'alpha': 0.01, 'activation': 'relu', 'learning_rate': 'invscaling', 'hidden_layer_sizes': (100, 17, 10)}\n",
            "0.939 (+/-0.016) for {'alpha': 0.01, 'activation': 'relu', 'learning_rate': 'adaptive', 'hidden_layer_sizes': (100, 17, 10)}\n",
            "0.935 (+/-0.021) for {'alpha': 0.01, 'activation': 'relu', 'learning_rate': 'constant', 'hidden_layer_sizes': (50, 25, 10)}\n",
            "0.937 (+/-0.017) for {'alpha': 0.01, 'activation': 'relu', 'learning_rate': 'invscaling', 'hidden_layer_sizes': (50, 25, 10)}\n",
            "0.941 (+/-0.014) for {'alpha': 0.01, 'activation': 'relu', 'learning_rate': 'adaptive', 'hidden_layer_sizes': (50, 25, 10)}\n",
            "0.943 (+/-0.012) for {'alpha': 0.001, 'activation': 'relu', 'learning_rate': 'constant', 'hidden_layer_sizes': (100,)}\n",
            "0.942 (+/-0.008) for {'alpha': 0.001, 'activation': 'relu', 'learning_rate': 'invscaling', 'hidden_layer_sizes': (100,)}\n",
            "0.937 (+/-0.012) for {'alpha': 0.001, 'activation': 'relu', 'learning_rate': 'adaptive', 'hidden_layer_sizes': (100,)}\n",
            "0.940 (+/-0.010) for {'alpha': 0.001, 'activation': 'relu', 'learning_rate': 'constant', 'hidden_layer_sizes': (100, 17, 10)}\n",
            "0.941 (+/-0.010) for {'alpha': 0.001, 'activation': 'relu', 'learning_rate': 'invscaling', 'hidden_layer_sizes': (100, 17, 10)}\n",
            "0.942 (+/-0.008) for {'alpha': 0.001, 'activation': 'relu', 'learning_rate': 'adaptive', 'hidden_layer_sizes': (100, 17, 10)}\n",
            "0.936 (+/-0.018) for {'alpha': 0.001, 'activation': 'relu', 'learning_rate': 'constant', 'hidden_layer_sizes': (50, 25, 10)}\n",
            "0.940 (+/-0.014) for {'alpha': 0.001, 'activation': 'relu', 'learning_rate': 'invscaling', 'hidden_layer_sizes': (50, 25, 10)}\n",
            "0.941 (+/-0.019) for {'alpha': 0.001, 'activation': 'relu', 'learning_rate': 'adaptive', 'hidden_layer_sizes': (50, 25, 10)}\n",
            "0.945 (+/-0.008) for {'alpha': 0.0001, 'activation': 'relu', 'learning_rate': 'constant', 'hidden_layer_sizes': (100,)}\n",
            "0.944 (+/-0.011) for {'alpha': 0.0001, 'activation': 'relu', 'learning_rate': 'invscaling', 'hidden_layer_sizes': (100,)}\n",
            "0.941 (+/-0.017) for {'alpha': 0.0001, 'activation': 'relu', 'learning_rate': 'adaptive', 'hidden_layer_sizes': (100,)}\n",
            "0.940 (+/-0.020) for {'alpha': 0.0001, 'activation': 'relu', 'learning_rate': 'constant', 'hidden_layer_sizes': (100, 17, 10)}\n",
            "0.940 (+/-0.012) for {'alpha': 0.0001, 'activation': 'relu', 'learning_rate': 'invscaling', 'hidden_layer_sizes': (100, 17, 10)}\n",
            "0.941 (+/-0.007) for {'alpha': 0.0001, 'activation': 'relu', 'learning_rate': 'adaptive', 'hidden_layer_sizes': (100, 17, 10)}\n",
            "0.941 (+/-0.019) for {'alpha': 0.0001, 'activation': 'relu', 'learning_rate': 'constant', 'hidden_layer_sizes': (50, 25, 10)}\n",
            "0.939 (+/-0.012) for {'alpha': 0.0001, 'activation': 'relu', 'learning_rate': 'invscaling', 'hidden_layer_sizes': (50, 25, 10)}\n",
            "0.941 (+/-0.020) for {'alpha': 0.0001, 'activation': 'relu', 'learning_rate': 'adaptive', 'hidden_layer_sizes': (50, 25, 10)}\n",
            "\n",
            "The model is trained on the development set.\n",
            "The scores are computed on the evaluation set.\n",
            "\n",
            "Detailed classification report:\n",
            "\n",
            "             precision    recall  f1-score   support\n",
            "\n",
            "        0.0       0.89      0.94      0.92       484\n",
            "        1.0       0.90      0.98      0.94      1115\n",
            "        2.0       1.00      1.00      1.00       977\n",
            "        3.0       0.96      0.95      0.95       331\n",
            "        4.0       0.95      0.93      0.94       320\n",
            "        5.0       0.98      0.88      0.93       627\n",
            "        6.0       0.98      0.99      0.99      1240\n",
            "        7.0       0.95      0.97      0.96       325\n",
            "        8.0       0.92      0.69      0.79       202\n",
            "        9.0       0.85      0.73      0.79       210\n",
            "\n",
            "avg / total       0.95      0.95      0.95      5831\n",
            "\n",
            "\n",
            "Detailed confusion matrix:\n",
            "\n",
            "[[ 456    0    0    0    0    0    0    0    0   28]\n",
            " [   0 1092    0    0    0    5   10    0    8    0]\n",
            " [   0    0  977    0    0    0    0    0    0    0]\n",
            " [   0    0    0  314   10    0    0    7    0    0]\n",
            " [   0    0    0   11  298    0    0   11    0    0]\n",
            " [   0   67    0    0    0  552    6    0    2    0]\n",
            " [   0    6    1    0    0    2 1229    0    2    0]\n",
            " [   0    0    0    3    6    0    0  316    0    0]\n",
            " [   0   54    0    0    0    6    3    0  139    0]\n",
            " [  56    0    0    0    0    0    0    0    0  154]]\n",
            "\n"
          ],
          "name": "stdout"
        }
      ]
    },
    {
      "metadata": {
        "id": "4UqlvYYiRyGR",
        "colab_type": "code",
        "colab": {
          "autoexec": {
            "startup": false,
            "wait_interval": 0
          },
          "output_extras": [
            {
              "item_id": 1
            }
          ],
          "base_uri": "https://localhost:8080/",
          "height": 68
        },
        "outputId": "129783cc-63b4-406b-d5ef-a73386f3d922",
        "executionInfo": {
          "status": "ok",
          "timestamp": 1513858348191,
          "user_tz": -120,
          "elapsed": 762,
          "user": {
            "displayName": "Dan Nir",
            "photoUrl": "https://lh3.googleusercontent.com/a/default-user=s128",
            "userId": "108190517583252561596"
          }
        }
      },
      "source": [
        "# Get best result for MLP\n",
        "Perceptron_best_score, Perceptron_best_config = show_model_results(\"Perceptron\", scores_dict)\n",
        "models_score_dictionary[\"Perceptron\"] = (Perceptron_best_score, Perceptron_best_config)"
      ],
      "cell_type": "code",
      "execution_count": 21,
      "outputs": [
        {
          "output_type": "stream",
          "text": [
            "Best scoring method: precision_weighted\n",
            "Max score for Perceptron classifier model: 0.944950957204\n",
            "Model best configuration: {'alpha': 0.01, 'activation': 'relu', 'learning_rate': 'invscaling', 'hidden_layer_sizes': (100,)}\n"
          ],
          "name": "stdout"
        }
      ]
    },
    {
      "metadata": {
        "id": "BQJmXjmSEhpB",
        "colab_type": "text"
      },
      "source": [
        "### Now we'll fit the model with best configuration on the train set"
      ],
      "cell_type": "markdown"
    },
    {
      "metadata": {
        "id": "O83sIMA7RvNR",
        "colab_type": "code",
        "colab": {
          "autoexec": {
            "startup": false,
            "wait_interval": 0
          },
          "output_extras": [
            {
              "item_id": 1
            }
          ],
          "base_uri": "https://localhost:8080/",
          "height": 136
        },
        "outputId": "b291f77f-58f1-4493-d401-d17f46d8fa4f",
        "executionInfo": {
          "status": "ok",
          "timestamp": 1514042969823,
          "user_tz": -120,
          "elapsed": 4299,
          "user": {
            "displayName": "Dan Nir",
            "photoUrl": "https://lh3.googleusercontent.com/a/default-user=s128",
            "userId": "108190517583252561596"
          }
        }
      },
      "source": [
        "from sklearn.neural_network import MLPClassifier\n",
        "\n",
        "# Instantiate model with best configuration\n",
        "#perceptron = MLPClassifier(alpha=0.01, hidden_layer_sizes=(100, ), activation='relu', learning_rate=\"invscaling\")\n",
        "\n",
        "# Instantiate model with default configuration\n",
        "perceptron = MLPClassifier()\n",
        "\n",
        "models_classifiers_dictionary[\"Perceptron\"] = perceptron\n",
        "\n",
        "# Fit the model with train_X and train_y\n",
        "perceptron.fit(train_X, train_y)"
      ],
      "cell_type": "code",
      "execution_count": 72,
      "outputs": [
        {
          "output_type": "execute_result",
          "data": {
            "text/plain": [
              "MLPClassifier(activation='relu', alpha=0.0001, batch_size='auto', beta_1=0.9,\n",
              "       beta_2=0.999, early_stopping=False, epsilon=1e-08,\n",
              "       hidden_layer_sizes=(100,), learning_rate='constant',\n",
              "       learning_rate_init=0.001, max_iter=200, momentum=0.9,\n",
              "       nesterovs_momentum=True, power_t=0.5, random_state=None,\n",
              "       shuffle=True, solver='adam', tol=0.0001, validation_fraction=0.1,\n",
              "       verbose=False, warm_start=False)"
            ]
          },
          "metadata": {
            "tags": []
          },
          "execution_count": 72
        }
      ]
    },
    {
      "metadata": {
        "id": "1wRakowrf2Wi",
        "colab_type": "text"
      },
      "source": [
        "## Third Model: Decision Tree"
      ],
      "cell_type": "markdown"
    },
    {
      "metadata": {
        "id": "ctim7DYDgnss",
        "colab_type": "text"
      },
      "source": [
        "### We'll optimize the model configuration using various scoring methods"
      ],
      "cell_type": "markdown"
    },
    {
      "metadata": {
        "id": "iYGlmQ0xjgIs",
        "colab_type": "code",
        "colab": {
          "autoexec": {
            "startup": false,
            "wait_interval": 0
          }
        }
      },
      "source": [
        "from sklearn.tree import DecisionTreeClassifier\n",
        "\n",
        "max_depth = range(1, 16)\n",
        "max_depth.append(None)\n",
        "\n",
        "tuned_parameters = {'criterion': ['gini', 'entropy'],\n",
        "                    'max_depth': max_depth}\n",
        "\n",
        "scores_dict = parameter_estimation_gridsearch_cv(train_X, train_y, DecisionTreeClassifier(), tuned_parameters)"
      ],
      "cell_type": "code",
      "execution_count": 0,
      "outputs": []
    },
    {
      "metadata": {
        "id": "w-wJ5_ZyYfYK",
        "colab_type": "code",
        "colab": {
          "autoexec": {
            "startup": false,
            "wait_interval": 0
          },
          "output_extras": [
            {
              "item_id": 1
            }
          ],
          "base_uri": "https://localhost:8080/",
          "height": 51
        },
        "outputId": "89fe2f0a-60ae-4a98-b167-9da30a8b896f",
        "executionInfo": {
          "status": "ok",
          "timestamp": 1513797124848,
          "user_tz": -120,
          "elapsed": 601,
          "user": {
            "displayName": "Dan Nir",
            "photoUrl": "https://lh3.googleusercontent.com/a/default-user=s128",
            "userId": "108190517583252561596"
          }
        }
      },
      "source": [
        "# Get best result for DecisionTree\n",
        "tree_best_score, tree_best_config = show_model_results(\"DecisionTree\", scores_dict)\n",
        "models_score_dictionary[\"DecisionTree\"] = (tree_best_score, tree_best_config)"
      ],
      "cell_type": "code",
      "execution_count": 40,
      "outputs": [
        {
          "output_type": "stream",
          "text": [
            "Max score for DecisionTree classifier model: 0.937711081047\n",
            "Model best configuration: {'criterion': 'gini', 'max_depth': 13}\n"
          ],
          "name": "stdout"
        }
      ]
    },
    {
      "metadata": {
        "id": "VISnaZ2FpMpI",
        "colab_type": "text"
      },
      "source": [
        "### Now we'll fit the model with best configuration on the train set"
      ],
      "cell_type": "markdown"
    },
    {
      "metadata": {
        "id": "w2B2YaaoosOw",
        "colab_type": "code",
        "colab": {
          "autoexec": {
            "startup": false,
            "wait_interval": 0
          },
          "output_extras": [
            {
              "item_id": 1
            }
          ],
          "base_uri": "https://localhost:8080/",
          "height": 102
        },
        "outputId": "4836a4e9-e3aa-4d0f-aac0-a15294745755",
        "executionInfo": {
          "status": "ok",
          "timestamp": 1514042972566,
          "user_tz": -120,
          "elapsed": 813,
          "user": {
            "displayName": "Dan Nir",
            "photoUrl": "https://lh3.googleusercontent.com/a/default-user=s128",
            "userId": "108190517583252561596"
          }
        }
      },
      "source": [
        "from sklearn.tree import DecisionTreeClassifier\n",
        "\n",
        "# Instantiate model with best configuration\n",
        "#tree = DecisionTreeClassifier(criterion='gini', max_depth=13)\n",
        "\n",
        "# Instantiate model with default configuration\n",
        "tree = DecisionTreeClassifier()\n",
        "\n",
        "models_classifiers_dictionary[\"DecisionTree\"] = tree\n",
        "\n",
        "# Fit the model with train_X and train_y\n",
        "tree.fit(train_X, train_y)"
      ],
      "cell_type": "code",
      "execution_count": 73,
      "outputs": [
        {
          "output_type": "execute_result",
          "data": {
            "text/plain": [
              "DecisionTreeClassifier(class_weight=None, criterion='gini', max_depth=None,\n",
              "            max_features=None, max_leaf_nodes=None,\n",
              "            min_impurity_split=1e-07, min_samples_leaf=1,\n",
              "            min_samples_split=2, min_weight_fraction_leaf=0.0,\n",
              "            presort=False, random_state=None, splitter='best')"
            ]
          },
          "metadata": {
            "tags": []
          },
          "execution_count": 73
        }
      ]
    },
    {
      "metadata": {
        "id": "rmhjJzOkbx4s",
        "colab_type": "text"
      },
      "source": [
        "## Forth Model: Linear SVC"
      ],
      "cell_type": "markdown"
    },
    {
      "metadata": {
        "id": "vRZQWfypb3nO",
        "colab_type": "text"
      },
      "source": [
        "### We'll optimize the model configuration using various scoring methods"
      ],
      "cell_type": "markdown"
    },
    {
      "metadata": {
        "id": "mGwB1W2pb4rf",
        "colab_type": "code",
        "colab": {
          "autoexec": {
            "startup": false,
            "wait_interval": 0
          }
        }
      },
      "source": [
        "from sklearn.svm import LinearSVC\n",
        "\n",
        "C_start, C_end, C_step = -3, 10, 2\n",
        "C_values = 2. ** np.arange(C_start, C_end + C_step, C_step)\n",
        "\n",
        "tuned_parameters = {'penalty': ['l1', 'l2'],\n",
        "                    'class_weight': [None, 'balanced'],\n",
        "                    'dual': [False, True],\n",
        "                    'C': C_values}\n",
        "\n",
        "scores_dict = parameter_estimation_gridsearch_cv(train_X, train_y, LinearSVC(), tuned_parameters)"
      ],
      "cell_type": "code",
      "execution_count": 0,
      "outputs": []
    },
    {
      "metadata": {
        "id": "reHS2eOaNvDk",
        "colab_type": "code",
        "colab": {
          "autoexec": {
            "startup": false,
            "wait_interval": 0
          },
          "output_extras": [
            {
              "item_id": 1
            }
          ],
          "base_uri": "https://localhost:8080/",
          "height": 51
        },
        "outputId": "19c0f25e-7e64-46b6-dd7a-59ce1db7cbed",
        "executionInfo": {
          "status": "ok",
          "timestamp": 1513798955738,
          "user_tz": -120,
          "elapsed": 620,
          "user": {
            "displayName": "Dan Nir",
            "photoUrl": "https://lh3.googleusercontent.com/a/default-user=s128",
            "userId": "108190517583252561596"
          }
        }
      },
      "source": [
        "# Get best result for LinearSVC\n",
        "svc_best_score, svc_best_config = show_model_results(\"SVC\", scores_dict)\n",
        "models_score_dictionary[\"SVC\"] = (svc_best_score, svc_best_config)"
      ],
      "cell_type": "code",
      "execution_count": 43,
      "outputs": [
        {
          "output_type": "stream",
          "text": [
            "Max score for SVC classifier model: 0.923771314891\n",
            "Model best configuration: {'penalty': 'l2', 'C': 128.0, 'dual': False, 'class_weight': None}\n"
          ],
          "name": "stdout"
        }
      ]
    },
    {
      "metadata": {
        "id": "Hlmww4k7b33Q",
        "colab_type": "text"
      },
      "source": [
        "### Now we'll fit the model with best configuration on the train set"
      ],
      "cell_type": "markdown"
    },
    {
      "metadata": {
        "id": "XHjPej6RSl3a",
        "colab_type": "code",
        "colab": {
          "autoexec": {
            "startup": false,
            "wait_interval": 0
          },
          "output_extras": [
            {
              "item_id": 1
            }
          ],
          "base_uri": "https://localhost:8080/",
          "height": 85
        },
        "outputId": "4f27d351-092c-4c90-b139-d8e6da20ee86",
        "executionInfo": {
          "status": "ok",
          "timestamp": 1514042975950,
          "user_tz": -120,
          "elapsed": 1281,
          "user": {
            "displayName": "Dan Nir",
            "photoUrl": "https://lh3.googleusercontent.com/a/default-user=s128",
            "userId": "108190517583252561596"
          }
        }
      },
      "source": [
        "from sklearn.svm import LinearSVC\n",
        "\n",
        "# Instantiate model with best configuration\n",
        "#svc = LinearSVC(penalty='l2', class_weight=None, C=128.0, dual=False)\n",
        "\n",
        "# Instantiate model with default configuration\n",
        "svc = LinearSVC()\n",
        "\n",
        "models_classifiers_dictionary[\"SVC\"] = svc\n",
        "\n",
        "# Fit the model with train_X and train_y\n",
        "svc.fit(train_X, train_y)"
      ],
      "cell_type": "code",
      "execution_count": 74,
      "outputs": [
        {
          "output_type": "execute_result",
          "data": {
            "text/plain": [
              "LinearSVC(C=1.0, class_weight=None, dual=True, fit_intercept=True,\n",
              "     intercept_scaling=1, loss='squared_hinge', max_iter=1000,\n",
              "     multi_class='ovr', penalty='l2', random_state=None, tol=0.0001,\n",
              "     verbose=0)"
            ]
          },
          "metadata": {
            "tags": []
          },
          "execution_count": 74
        }
      ]
    },
    {
      "metadata": {
        "id": "HchOCiqUseRX",
        "colab_type": "text"
      },
      "source": [
        "# 3. Load the prepared valid set"
      ],
      "cell_type": "markdown"
    },
    {
      "metadata": {
        "id": "8hm58Rg_0Z3i",
        "colab_type": "text"
      },
      "source": [
        "## Download the train dataset from the cloud storage"
      ],
      "cell_type": "markdown"
    },
    {
      "metadata": {
        "id": "frDS6PkvypNR",
        "colab_type": "code",
        "colab": {
          "autoexec": {
            "startup": false,
            "wait_interval": 0
          }
        }
      },
      "source": [
        "downloaded = drive.CreateFile({'id': '1HgtZC1iq9VYH8Ygo6-6XnC6G0xa8Lz01'})\n",
        "downloaded.GetContentFile('validation_X.csv')\n",
        "\n",
        "downloaded = drive.CreateFile({'id': '1Z_0zOORoZJVlOQ58UdXml4maSNSNBBMK'})\n",
        "downloaded.GetContentFile('validation_y.csv')"
      ],
      "cell_type": "code",
      "execution_count": 0,
      "outputs": []
    },
    {
      "metadata": {
        "id": "uzUOOiTg0w6Q",
        "colab_type": "code",
        "colab": {
          "autoexec": {
            "startup": false,
            "wait_interval": 0
          },
          "output_extras": [
            {
              "item_id": 1
            }
          ],
          "base_uri": "https://localhost:8080/",
          "height": 34
        },
        "outputId": "478d7237-1b2e-4876-9683-6987df2a0567",
        "executionInfo": {
          "status": "ok",
          "timestamp": 1514042981996,
          "user_tz": -120,
          "elapsed": 1581,
          "user": {
            "displayName": "Dan Nir",
            "photoUrl": "https://lh3.googleusercontent.com/a/default-user=s128",
            "userId": "108190517583252561596"
          }
        }
      },
      "source": [
        "!ls"
      ],
      "cell_type": "code",
      "execution_count": 76,
      "outputs": [
        {
          "output_type": "stream",
          "text": [
            "BAK  datalab  train_X.csv  train_y.csv\tvalidation_X.csv  validation_y.csv\r\n"
          ],
          "name": "stdout"
        }
      ]
    },
    {
      "metadata": {
        "id": "H6EjWThP0kwe",
        "colab_type": "text"
      },
      "source": [
        "## Load the train set into dataframes (X, y)"
      ],
      "cell_type": "markdown"
    },
    {
      "metadata": {
        "id": "uL8j87oT0k7u",
        "colab_type": "code",
        "colab": {
          "autoexec": {
            "startup": false,
            "wait_interval": 0
          }
        }
      },
      "source": [
        "valid_X =      pd.read_csv(\"validation_X.csv\", header=0)\n",
        "valid_y =      pd.read_csv(\"validation_y.csv\", header=None)\n",
        "# valid_y.columns = [\"Vote\"]\n",
        "\n",
        "# fix df_label as df_label[0] for easy writing..\n",
        "valid_y = valid_y[0]"
      ],
      "cell_type": "code",
      "execution_count": 0,
      "outputs": []
    },
    {
      "metadata": {
        "id": "FMD8mRDy00cG",
        "colab_type": "text"
      },
      "source": [
        "## View the loaded training set"
      ],
      "cell_type": "markdown"
    },
    {
      "metadata": {
        "id": "054hI6Vr03GO",
        "colab_type": "code",
        "colab": {
          "autoexec": {
            "startup": false,
            "wait_interval": 0
          },
          "output_extras": [
            {
              "item_id": 1
            },
            {
              "item_id": 2
            }
          ],
          "base_uri": "https://localhost:8080/",
          "height": 598
        },
        "outputId": "8befb501-755c-490c-f964-40077bcf5ba2",
        "executionInfo": {
          "status": "ok",
          "timestamp": 1514042983487,
          "user_tz": -120,
          "elapsed": 633,
          "user": {
            "displayName": "Dan Nir",
            "photoUrl": "https://lh3.googleusercontent.com/a/default-user=s128",
            "userId": "108190517583252561596"
          }
        }
      },
      "source": [
        "valid_X.info()\n",
        "valid_X.head(5)"
      ],
      "cell_type": "code",
      "execution_count": 78,
      "outputs": [
        {
          "output_type": "stream",
          "text": [
            "<class 'pandas.core.frame.DataFrame'>\n",
            "RangeIndex: 1944 entries, 0 to 1943\n",
            "Data columns (total 17 columns):\n",
            "Number_of_valued_Kneset_members                  1944 non-null float64\n",
            "Yearly_IncomeK                                   1944 non-null float64\n",
            "Overall_happiness_score                          1944 non-null float64\n",
            "Avg_Satisfaction_with_previous_vote              1944 non-null float64\n",
            "Garden_sqr_meter_per_person_in_residancy_area    1944 non-null float64\n",
            "Weighted_education_rank                          1944 non-null float64\n",
            "Will_vote_only_large_party_1.0                   1944 non-null int64\n",
            "Will_vote_only_large_party_0.0                   1944 non-null int64\n",
            "Will_vote_only_large_party_2.0                   1944 non-null int64\n",
            "Most_Important_Issue_4.0                         1944 non-null int64\n",
            "Most_Important_Issue_1.0                         1944 non-null int64\n",
            "Most_Important_Issue_7.0                         1944 non-null int64\n",
            "Most_Important_Issue_5.0                         1944 non-null int64\n",
            "Most_Important_Issue_2.0                         1944 non-null int64\n",
            "Most_Important_Issue_0.0                         1944 non-null int64\n",
            "Most_Important_Issue_6.0                         1944 non-null int64\n",
            "Most_Important_Issue_3.0                         1944 non-null int64\n",
            "dtypes: float64(6), int64(11)\n",
            "memory usage: 258.3 KB\n"
          ],
          "name": "stdout"
        },
        {
          "output_type": "execute_result",
          "data": {
            "text/html": [
              "<div>\n",
              "<style>\n",
              "    .dataframe thead tr:only-child th {\n",
              "        text-align: right;\n",
              "    }\n",
              "\n",
              "    .dataframe thead th {\n",
              "        text-align: left;\n",
              "    }\n",
              "\n",
              "    .dataframe tbody tr th {\n",
              "        vertical-align: top;\n",
              "    }\n",
              "</style>\n",
              "<table border=\"1\" class=\"dataframe\">\n",
              "  <thead>\n",
              "    <tr style=\"text-align: right;\">\n",
              "      <th></th>\n",
              "      <th>Number_of_valued_Kneset_members</th>\n",
              "      <th>Yearly_IncomeK</th>\n",
              "      <th>Overall_happiness_score</th>\n",
              "      <th>Avg_Satisfaction_with_previous_vote</th>\n",
              "      <th>Garden_sqr_meter_per_person_in_residancy_area</th>\n",
              "      <th>Weighted_education_rank</th>\n",
              "      <th>Will_vote_only_large_party_1.0</th>\n",
              "      <th>Will_vote_only_large_party_0.0</th>\n",
              "      <th>Will_vote_only_large_party_2.0</th>\n",
              "      <th>Most_Important_Issue_4.0</th>\n",
              "      <th>Most_Important_Issue_1.0</th>\n",
              "      <th>Most_Important_Issue_7.0</th>\n",
              "      <th>Most_Important_Issue_5.0</th>\n",
              "      <th>Most_Important_Issue_2.0</th>\n",
              "      <th>Most_Important_Issue_0.0</th>\n",
              "      <th>Most_Important_Issue_6.0</th>\n",
              "      <th>Most_Important_Issue_3.0</th>\n",
              "    </tr>\n",
              "  </thead>\n",
              "  <tbody>\n",
              "    <tr>\n",
              "      <th>0</th>\n",
              "      <td>12.0</td>\n",
              "      <td>-0.107043</td>\n",
              "      <td>-0.141038</td>\n",
              "      <td>0.691124</td>\n",
              "      <td>-0.480667</td>\n",
              "      <td>-0.275633</td>\n",
              "      <td>1</td>\n",
              "      <td>0</td>\n",
              "      <td>0</td>\n",
              "      <td>0</td>\n",
              "      <td>1</td>\n",
              "      <td>0</td>\n",
              "      <td>0</td>\n",
              "      <td>0</td>\n",
              "      <td>0</td>\n",
              "      <td>0</td>\n",
              "      <td>0</td>\n",
              "    </tr>\n",
              "    <tr>\n",
              "      <th>1</th>\n",
              "      <td>8.0</td>\n",
              "      <td>1.872975</td>\n",
              "      <td>-0.189318</td>\n",
              "      <td>-0.721718</td>\n",
              "      <td>1.867954</td>\n",
              "      <td>-0.110044</td>\n",
              "      <td>1</td>\n",
              "      <td>0</td>\n",
              "      <td>0</td>\n",
              "      <td>0</td>\n",
              "      <td>0</td>\n",
              "      <td>1</td>\n",
              "      <td>0</td>\n",
              "      <td>0</td>\n",
              "      <td>0</td>\n",
              "      <td>0</td>\n",
              "      <td>0</td>\n",
              "    </tr>\n",
              "    <tr>\n",
              "      <th>2</th>\n",
              "      <td>12.0</td>\n",
              "      <td>0.788380</td>\n",
              "      <td>1.631465</td>\n",
              "      <td>0.520939</td>\n",
              "      <td>-0.703350</td>\n",
              "      <td>0.511250</td>\n",
              "      <td>1</td>\n",
              "      <td>0</td>\n",
              "      <td>0</td>\n",
              "      <td>0</td>\n",
              "      <td>0</td>\n",
              "      <td>0</td>\n",
              "      <td>0</td>\n",
              "      <td>1</td>\n",
              "      <td>0</td>\n",
              "      <td>0</td>\n",
              "      <td>0</td>\n",
              "    </tr>\n",
              "    <tr>\n",
              "      <th>3</th>\n",
              "      <td>8.0</td>\n",
              "      <td>-0.098471</td>\n",
              "      <td>0.059599</td>\n",
              "      <td>0.688121</td>\n",
              "      <td>0.682170</td>\n",
              "      <td>-1.322242</td>\n",
              "      <td>1</td>\n",
              "      <td>0</td>\n",
              "      <td>0</td>\n",
              "      <td>1</td>\n",
              "      <td>0</td>\n",
              "      <td>0</td>\n",
              "      <td>0</td>\n",
              "      <td>0</td>\n",
              "      <td>0</td>\n",
              "      <td>0</td>\n",
              "      <td>0</td>\n",
              "    </tr>\n",
              "    <tr>\n",
              "      <th>4</th>\n",
              "      <td>9.0</td>\n",
              "      <td>-0.042849</td>\n",
              "      <td>0.565714</td>\n",
              "      <td>0.591769</td>\n",
              "      <td>-0.113672</td>\n",
              "      <td>-0.630451</td>\n",
              "      <td>1</td>\n",
              "      <td>0</td>\n",
              "      <td>0</td>\n",
              "      <td>0</td>\n",
              "      <td>0</td>\n",
              "      <td>1</td>\n",
              "      <td>0</td>\n",
              "      <td>0</td>\n",
              "      <td>0</td>\n",
              "      <td>0</td>\n",
              "      <td>0</td>\n",
              "    </tr>\n",
              "  </tbody>\n",
              "</table>\n",
              "</div>"
            ],
            "text/plain": [
              "   Number_of_valued_Kneset_members  Yearly_IncomeK  Overall_happiness_score  \\\n",
              "0                             12.0       -0.107043                -0.141038   \n",
              "1                              8.0        1.872975                -0.189318   \n",
              "2                             12.0        0.788380                 1.631465   \n",
              "3                              8.0       -0.098471                 0.059599   \n",
              "4                              9.0       -0.042849                 0.565714   \n",
              "\n",
              "   Avg_Satisfaction_with_previous_vote  \\\n",
              "0                             0.691124   \n",
              "1                            -0.721718   \n",
              "2                             0.520939   \n",
              "3                             0.688121   \n",
              "4                             0.591769   \n",
              "\n",
              "   Garden_sqr_meter_per_person_in_residancy_area  Weighted_education_rank  \\\n",
              "0                                      -0.480667                -0.275633   \n",
              "1                                       1.867954                -0.110044   \n",
              "2                                      -0.703350                 0.511250   \n",
              "3                                       0.682170                -1.322242   \n",
              "4                                      -0.113672                -0.630451   \n",
              "\n",
              "   Will_vote_only_large_party_1.0  Will_vote_only_large_party_0.0  \\\n",
              "0                               1                               0   \n",
              "1                               1                               0   \n",
              "2                               1                               0   \n",
              "3                               1                               0   \n",
              "4                               1                               0   \n",
              "\n",
              "   Will_vote_only_large_party_2.0  Most_Important_Issue_4.0  \\\n",
              "0                               0                         0   \n",
              "1                               0                         0   \n",
              "2                               0                         0   \n",
              "3                               0                         1   \n",
              "4                               0                         0   \n",
              "\n",
              "   Most_Important_Issue_1.0  Most_Important_Issue_7.0  \\\n",
              "0                         1                         0   \n",
              "1                         0                         1   \n",
              "2                         0                         0   \n",
              "3                         0                         0   \n",
              "4                         0                         1   \n",
              "\n",
              "   Most_Important_Issue_5.0  Most_Important_Issue_2.0  \\\n",
              "0                         0                         0   \n",
              "1                         0                         0   \n",
              "2                         0                         1   \n",
              "3                         0                         0   \n",
              "4                         0                         0   \n",
              "\n",
              "   Most_Important_Issue_0.0  Most_Important_Issue_6.0  \\\n",
              "0                         0                         0   \n",
              "1                         0                         0   \n",
              "2                         0                         0   \n",
              "3                         0                         0   \n",
              "4                         0                         0   \n",
              "\n",
              "   Most_Important_Issue_3.0  \n",
              "0                         0  \n",
              "1                         0  \n",
              "2                         0  \n",
              "3                         0  \n",
              "4                         0  "
            ]
          },
          "metadata": {
            "tags": []
          },
          "execution_count": 78
        }
      ]
    },
    {
      "metadata": {
        "id": "9yJwZOuT03JP",
        "colab_type": "code",
        "colab": {
          "autoexec": {
            "startup": false,
            "wait_interval": 0
          },
          "output_extras": [
            {
              "item_id": 1
            }
          ],
          "base_uri": "https://localhost:8080/",
          "height": 119
        },
        "outputId": "79fb7d9b-a37b-41f7-b91a-c04f27ac1270",
        "executionInfo": {
          "status": "ok",
          "timestamp": 1514042984506,
          "user_tz": -120,
          "elapsed": 590,
          "user": {
            "displayName": "Dan Nir",
            "photoUrl": "https://lh3.googleusercontent.com/a/default-user=s128",
            "userId": "108190517583252561596"
          }
        }
      },
      "source": [
        "valid_y.head(5)"
      ],
      "cell_type": "code",
      "execution_count": 79,
      "outputs": [
        {
          "output_type": "execute_result",
          "data": {
            "text/plain": [
              "0    6.0\n",
              "1    5.0\n",
              "2    2.0\n",
              "3    8.0\n",
              "4    6.0\n",
              "Name: 0, dtype: float64"
            ]
          },
          "metadata": {
            "tags": []
          },
          "execution_count": 79
        }
      ]
    },
    {
      "metadata": {
        "id": "hQvYojhmVzF4",
        "colab_type": "text"
      },
      "source": [
        "# 4. Apply the trained models on the valid set and check performance"
      ],
      "cell_type": "markdown"
    },
    {
      "metadata": {
        "id": "qdfhZatTmZoi",
        "colab_type": "text"
      },
      "source": [
        "## Utility methods"
      ],
      "cell_type": "markdown"
    },
    {
      "metadata": {
        "id": "BsqdyDYZfGEu",
        "colab_type": "code",
        "colab": {
          "autoexec": {
            "startup": false,
            "wait_interval": 0
          }
        }
      },
      "source": [
        "classes_names = [\"0.0\", \"1.0\", \"2.0\", \"3.0\", \"4.0\", \"5.0\", \"6.0\", \"7.0\", \"8.0\", \"9.0\"]"
      ],
      "cell_type": "code",
      "execution_count": 0,
      "outputs": []
    },
    {
      "metadata": {
        "id": "tx89RZZwmdUn",
        "colab_type": "code",
        "colab": {
          "autoexec": {
            "startup": false,
            "wait_interval": 0
          }
        }
      },
      "source": [
        "from sklearn.multiclass import OneVsRestClassifier\n",
        "\n",
        "models_prediction_dictionary = {}\n",
        "models_accuracy_dictionary = {}\n",
        "\n",
        "def predict_model_labels(model_name, classifier, X, y):\n",
        "  prediction = classifier.predict(X)\n",
        "  prediction_label_count = group_by_count(prediction)\n",
        "  for key, value in sorted(prediction_label_count.iteritems(), key=lambda (k,v): (v,k)):\n",
        "    print \"%s: %s\" % (key, value)\n",
        "  accuracy = classifier.score(valid_X, valid_y)\n",
        "  print \"{0} score: {1}\".format(model_name, accuracy)\n",
        "  models_accuracy_dictionary[model_name] = accuracy\n",
        "  models_prediction_dictionary[model_name] = prediction\n",
        "  return prediction\n",
        "\n",
        "def get_model_decision_score(model, train_X, train_y, valid_X):\n",
        "  # Learn to predict each class against the other\n",
        "  classifier = OneVsRestClassifier(model)\n",
        "  score_y = classifier.fit(train_X, train_y).decision_function(valid_X)\n",
        "  return score_y"
      ],
      "cell_type": "code",
      "execution_count": 0,
      "outputs": []
    },
    {
      "metadata": {
        "id": "2mgEVYwbeVzm",
        "colab_type": "code",
        "colab": {
          "autoexec": {
            "startup": false,
            "wait_interval": 0
          }
        }
      },
      "source": [
        "import itertools\n",
        "\n",
        "def plot_confusion_matrix(cm, classes, normalize=False, title='Confusion matrix', cmap=plt.cm.Blues):\n",
        "    \"\"\"\n",
        "    This function prints and plots the confusion matrix.\n",
        "    Normalization can be applied by setting `normalize=True`.\n",
        "    \"\"\"\n",
        "    if normalize:\n",
        "        cm = cm.astype('float') / cm.sum(axis=1)[:, np.newaxis]\n",
        "    print title\n",
        "    print(cm)\n",
        "\n",
        "    plt.imshow(cm, interpolation='nearest', cmap=cmap)\n",
        "    plt.title(title + \" Plot\")\n",
        "    plt.colorbar()\n",
        "    tick_marks = np.arange(len(classes))\n",
        "    plt.xticks(tick_marks, classes, rotation=45)\n",
        "    plt.yticks(tick_marks, classes)\n",
        "\n",
        "    fmt = '.2f' if normalize else 'd'\n",
        "    thresh = cm.max() / 2.\n",
        "    for i, j in itertools.product(range(cm.shape[0]), range(cm.shape[1])):\n",
        "        plt.text(j, i, format(cm[i, j], fmt),\n",
        "                 horizontalalignment=\"center\",\n",
        "                 color=\"white\" if cm[i, j] > thresh else \"black\")\n",
        "\n",
        "    plt.tight_layout()\n",
        "    plt.ylabel('True label')\n",
        "    plt.xlabel('Predicted label')"
      ],
      "cell_type": "code",
      "execution_count": 0,
      "outputs": []
    },
    {
      "metadata": {
        "id": "uFyMt9HKt-ah",
        "colab_type": "text"
      },
      "source": [
        "## Predict labels using the trained model on the valid set"
      ],
      "cell_type": "markdown"
    },
    {
      "metadata": {
        "id": "mCdK-lcvuKHT",
        "colab_type": "text"
      },
      "source": [
        "###KNN"
      ],
      "cell_type": "markdown"
    },
    {
      "metadata": {
        "id": "_AiuXy7MuXI3",
        "colab_type": "code",
        "colab": {
          "autoexec": {
            "startup": false,
            "wait_interval": 0
          },
          "output_extras": [
            {
              "item_id": 1
            }
          ],
          "base_uri": "https://localhost:8080/",
          "height": 204
        },
        "outputId": "540d7c4c-a726-4568-ef9a-5a8886043a15",
        "executionInfo": {
          "status": "ok",
          "timestamp": 1514043173006,
          "user_tz": -120,
          "elapsed": 732,
          "user": {
            "displayName": "Dan Nir",
            "photoUrl": "https://lh3.googleusercontent.com/a/default-user=s128",
            "userId": "108190517583252561596"
          }
        }
      },
      "source": [
        "knn_prediction = predict_model_labels(\"KNN\", knn, valid_X, valid_y)"
      ],
      "cell_type": "code",
      "execution_count": 93,
      "outputs": [
        {
          "output_type": "stream",
          "text": [
            "8.0: 44\n",
            "9.0: 59\n",
            "4.0: 96\n",
            "3.0: 103\n",
            "7.0: 126\n",
            "0.0: 162\n",
            "5.0: 192\n",
            "2.0: 334\n",
            "1.0: 414\n",
            "6.0: 414\n",
            "KNN score: 0.931069958848\n"
          ],
          "name": "stdout"
        }
      ]
    },
    {
      "metadata": {
        "id": "Pghi1kiTuKpH",
        "colab_type": "text"
      },
      "source": [
        "###Multi-layer Perceptron"
      ],
      "cell_type": "markdown"
    },
    {
      "metadata": {
        "id": "PlICnYfmuWr5",
        "colab_type": "code",
        "colab": {
          "autoexec": {
            "startup": false,
            "wait_interval": 0
          },
          "output_extras": [
            {
              "item_id": 1
            }
          ],
          "base_uri": "https://localhost:8080/",
          "height": 204
        },
        "outputId": "25ef1d70-6563-4f66-af2b-d85a3c1a5210",
        "executionInfo": {
          "status": "ok",
          "timestamp": 1514043173926,
          "user_tz": -120,
          "elapsed": 572,
          "user": {
            "displayName": "Dan Nir",
            "photoUrl": "https://lh3.googleusercontent.com/a/default-user=s128",
            "userId": "108190517583252561596"
          }
        }
      },
      "source": [
        "perceptron_prediction = predict_model_labels(\"Perceptron\", perceptron, valid_X, valid_y)"
      ],
      "cell_type": "code",
      "execution_count": 94,
      "outputs": [
        {
          "output_type": "stream",
          "text": [
            "9.0: 51\n",
            "8.0: 56\n",
            "3.0: 104\n",
            "7.0: 105\n",
            "4.0: 116\n",
            "0.0: 181\n",
            "5.0: 189\n",
            "2.0: 327\n",
            "1.0: 406\n",
            "6.0: 409\n",
            "Perceptron score: 0.942386831276\n"
          ],
          "name": "stdout"
        }
      ]
    },
    {
      "metadata": {
        "id": "BTBm57gNuKu9",
        "colab_type": "text"
      },
      "source": [
        "###DecisionTrees"
      ],
      "cell_type": "markdown"
    },
    {
      "metadata": {
        "id": "Jxz19cFyuWMB",
        "colab_type": "code",
        "colab": {
          "autoexec": {
            "startup": false,
            "wait_interval": 0
          },
          "output_extras": [
            {
              "item_id": 1
            }
          ],
          "base_uri": "https://localhost:8080/",
          "height": 204
        },
        "outputId": "6c062c93-71ad-4b54-f090-70d98cfaf08b",
        "executionInfo": {
          "status": "ok",
          "timestamp": 1514043175347,
          "user_tz": -120,
          "elapsed": 733,
          "user": {
            "displayName": "Dan Nir",
            "photoUrl": "https://lh3.googleusercontent.com/a/default-user=s128",
            "userId": "108190517583252561596"
          }
        }
      },
      "source": [
        "tree_prediction = predict_model_labels(\"DecisionTree\", tree, valid_X, valid_y)"
      ],
      "cell_type": "code",
      "execution_count": 95,
      "outputs": [
        {
          "output_type": "stream",
          "text": [
            "8.0: 71\n",
            "9.0: 71\n",
            "4.0: 103\n",
            "7.0: 110\n",
            "3.0: 112\n",
            "0.0: 161\n",
            "5.0: 201\n",
            "2.0: 324\n",
            "1.0: 383\n",
            "6.0: 408\n",
            "DecisionTree score: 0.924382716049\n"
          ],
          "name": "stdout"
        }
      ]
    },
    {
      "metadata": {
        "id": "mtpBqo0luK5j",
        "colab_type": "text"
      },
      "source": [
        "### Linear SVC"
      ],
      "cell_type": "markdown"
    },
    {
      "metadata": {
        "id": "8OaUoh59uJRK",
        "colab_type": "code",
        "colab": {
          "autoexec": {
            "startup": false,
            "wait_interval": 0
          },
          "output_extras": [
            {
              "item_id": 1
            }
          ],
          "base_uri": "https://localhost:8080/",
          "height": 204
        },
        "outputId": "a2ef9f76-2074-4d8c-91d2-35f4bbea3d18",
        "executionInfo": {
          "status": "ok",
          "timestamp": 1514043176350,
          "user_tz": -120,
          "elapsed": 656,
          "user": {
            "displayName": "Dan Nir",
            "photoUrl": "https://lh3.googleusercontent.com/a/default-user=s128",
            "userId": "108190517583252561596"
          }
        }
      },
      "source": [
        "svc_prediction = predict_model_labels(\"SVC\", svc, valid_X, valid_y)"
      ],
      "cell_type": "code",
      "execution_count": 96,
      "outputs": [
        {
          "output_type": "stream",
          "text": [
            "8.0: 36\n",
            "9.0: 59\n",
            "3.0: 104\n",
            "7.0: 106\n",
            "4.0: 115\n",
            "5.0: 156\n",
            "0.0: 171\n",
            "2.0: 332\n",
            "6.0: 423\n",
            "1.0: 442\n",
            "SVC score: 0.908436213992\n"
          ],
          "name": "stdout"
        }
      ]
    },
    {
      "metadata": {
        "id": "5SygVq_vs3p9",
        "colab_type": "text"
      },
      "source": [
        "## Performance measure (multiple measures)"
      ],
      "cell_type": "markdown"
    },
    {
      "metadata": {
        "id": "LPoAzLKYW_Q8",
        "colab_type": "text"
      },
      "source": [
        "###Receiver Operating Characteristic (ROC) (Multiclass implementation)"
      ],
      "cell_type": "markdown"
    },
    {
      "metadata": {
        "id": "winOB0RtW_Zm",
        "colab_type": "code",
        "colab": {
          "autoexec": {
            "startup": false,
            "wait_interval": 0
          },
          "output_extras": [
            {
              "item_id": 1
            }
          ],
          "base_uri": "https://localhost:8080/",
          "height": 452
        },
        "outputId": "c160fa70-77a7-4fd2-9cde-7ba6c9808bba",
        "executionInfo": {
          "status": "error",
          "timestamp": 1514022377210,
          "user_tz": -120,
          "elapsed": 15107,
          "user": {
            "displayName": "Nir Rosen",
            "photoUrl": "//lh6.googleusercontent.com/-RU_1qjoz7eQ/AAAAAAAAAAI/AAAAAAAAOGU/yZ8Ic2G6TO8/s50-c-k-no/photo.jpg",
            "userId": "114953186499424728696"
          }
        }
      },
      "source": [
        "from sklearn.preprocessing import label_binarize\n",
        "from sklearn.metrics import roc_curve, auc\n",
        "\n",
        "# Binarize the output\n",
        "valid_y_binary = label_binarize(valid_y, classes=[0.0, 1.0, 2.0, 3.0, 4.0, 5.0, 6.0, 7.0, 8.0, 9.0])\n",
        "n_classes = valid_y_binary.shape[1]\n",
        "\n",
        "# Learn to predict each class against the other\n",
        "score_y = get_model_decision_score(perceptron, train_X, train_y, valid_X)\n",
        "\n",
        "# Compute ROC curve and ROC area for each class\n",
        "fpr = dict()\n",
        "tpr = dict()\n",
        "roc_auc = dict()\n",
        "for i in range(n_classes):\n",
        "    fpr[i], tpr[i], _ = roc_curve(valid_y[:, i], score_y[:, i])\n",
        "    roc_auc[i] = auc(fpr[i], tpr[i])\n",
        "\n",
        "# Compute micro-average ROC curve and ROC area\n",
        "fpr[\"micro\"], tpr[\"micro\"], _ = roc_curve(valid_y.ravel(), score_y.ravel())\n",
        "roc_auc[\"micro\"] = auc(fpr[\"micro\"], tpr[\"micro\"])"
      ],
      "cell_type": "code",
      "execution_count": 33,
      "outputs": [
        {
          "output_type": "error",
          "ename": "AttributeError",
          "evalue": "ignored",
          "traceback": [
            "\u001b[0;31m\u001b[0m",
            "\u001b[0;31mAttributeError\u001b[0mTraceback (most recent call last)",
            "\u001b[0;32m<ipython-input-33-753b3c66150c>\u001b[0m in \u001b[0;36m<module>\u001b[0;34m()\u001b[0m\n\u001b[1;32m      7\u001b[0m \u001b[0;34m\u001b[0m\u001b[0m\n\u001b[1;32m      8\u001b[0m \u001b[0;31m# Learn to predict each class against the other\u001b[0m\u001b[0;34m\u001b[0m\u001b[0;34m\u001b[0m\u001b[0m\n\u001b[0;32m----> 9\u001b[0;31m \u001b[0mscore_y\u001b[0m \u001b[0;34m=\u001b[0m \u001b[0mget_model_decision_score\u001b[0m\u001b[0;34m(\u001b[0m\u001b[0mperceptron\u001b[0m\u001b[0;34m,\u001b[0m \u001b[0mtrain_X\u001b[0m\u001b[0;34m,\u001b[0m \u001b[0mtrain_y\u001b[0m\u001b[0;34m,\u001b[0m \u001b[0mvalid_X\u001b[0m\u001b[0;34m)\u001b[0m\u001b[0;34m\u001b[0m\u001b[0m\n\u001b[0m\u001b[1;32m     10\u001b[0m \u001b[0;34m\u001b[0m\u001b[0m\n\u001b[1;32m     11\u001b[0m \u001b[0;31m# Compute ROC curve and ROC area for each class\u001b[0m\u001b[0;34m\u001b[0m\u001b[0;34m\u001b[0m\u001b[0m\n",
            "\u001b[0;32m<ipython-input-27-d67aebf4cfda>\u001b[0m in \u001b[0;36mget_model_decision_score\u001b[0;34m(model, train_X, train_y, valid_X)\u001b[0m\n\u001b[1;32m     16\u001b[0m   \u001b[0;31m# Learn to predict each class against the other\u001b[0m\u001b[0;34m\u001b[0m\u001b[0;34m\u001b[0m\u001b[0m\n\u001b[1;32m     17\u001b[0m   \u001b[0mclassifier\u001b[0m \u001b[0;34m=\u001b[0m \u001b[0mOneVsRestClassifier\u001b[0m\u001b[0;34m(\u001b[0m\u001b[0mmodel\u001b[0m\u001b[0;34m)\u001b[0m\u001b[0;34m\u001b[0m\u001b[0m\n\u001b[0;32m---> 18\u001b[0;31m   \u001b[0mscore_y\u001b[0m \u001b[0;34m=\u001b[0m \u001b[0mclassifier\u001b[0m\u001b[0;34m.\u001b[0m\u001b[0mfit\u001b[0m\u001b[0;34m(\u001b[0m\u001b[0mtrain_X\u001b[0m\u001b[0;34m,\u001b[0m \u001b[0mtrain_y\u001b[0m\u001b[0;34m)\u001b[0m\u001b[0;34m.\u001b[0m\u001b[0mdecision_function\u001b[0m\u001b[0;34m(\u001b[0m\u001b[0mvalid_X\u001b[0m\u001b[0;34m)\u001b[0m\u001b[0;34m\u001b[0m\u001b[0m\n\u001b[0m\u001b[1;32m     19\u001b[0m   \u001b[0;32mreturn\u001b[0m \u001b[0mscore_y\u001b[0m\u001b[0;34m\u001b[0m\u001b[0m\n",
            "\u001b[0;32m/usr/local/lib/python2.7/dist-packages/sklearn/multiclass.pyc\u001b[0m in \u001b[0;36mdecision_function\u001b[0;34m(self, X)\u001b[0m\n\u001b[1;32m    369\u001b[0m         \u001b[0;32mif\u001b[0m \u001b[0;32mnot\u001b[0m \u001b[0mhasattr\u001b[0m\u001b[0;34m(\u001b[0m\u001b[0mself\u001b[0m\u001b[0;34m.\u001b[0m\u001b[0mestimators_\u001b[0m\u001b[0;34m[\u001b[0m\u001b[0;36m0\u001b[0m\u001b[0;34m]\u001b[0m\u001b[0;34m,\u001b[0m \u001b[0;34m\"decision_function\"\u001b[0m\u001b[0;34m)\u001b[0m\u001b[0;34m:\u001b[0m\u001b[0;34m\u001b[0m\u001b[0m\n\u001b[1;32m    370\u001b[0m             raise AttributeError(\n\u001b[0;32m--> 371\u001b[0;31m                 \"Base estimator doesn't have a decision_function attribute.\")\n\u001b[0m\u001b[1;32m    372\u001b[0m         return np.array([est.decision_function(X).ravel()\n\u001b[1;32m    373\u001b[0m                          for est in self.estimators_]).T\n",
            "\u001b[0;31mAttributeError\u001b[0m: Base estimator doesn't have a decision_function attribute."
          ]
        }
      ]
    },
    {
      "metadata": {
        "id": "fW-7sRK4y1LP",
        "colab_type": "text"
      },
      "source": [
        "###Matthews correlation coefficient"
      ],
      "cell_type": "markdown"
    },
    {
      "metadata": {
        "id": "JzHUJDbGucHQ",
        "colab_type": "code",
        "colab": {
          "autoexec": {
            "startup": false,
            "wait_interval": 0
          },
          "output_extras": [
            {
              "item_id": 1
            },
            {
              "item_id": 2
            }
          ],
          "base_uri": "https://localhost:8080/",
          "height": 387
        },
        "outputId": "e7c3d5df-fb03-4d5b-c998-db942b0efea0",
        "executionInfo": {
          "status": "error",
          "timestamp": 1514022819201,
          "user_tz": -120,
          "elapsed": 705,
          "user": {
            "displayName": "Nir Rosen",
            "photoUrl": "//lh6.googleusercontent.com/-RU_1qjoz7eQ/AAAAAAAAAAI/AAAAAAAAOGU/yZ8Ic2G6TO8/s50-c-k-no/photo.jpg",
            "userId": "114953186499424728696"
          }
        }
      },
      "source": [
        "from sklearn.metrics import matthews_corrcoef\n",
        "\n",
        "print \"Performance measure calculation using Matthews correlation coefficient:\"\n",
        "print \"-----------------------------------------------------------------------\"\n",
        "for model_name, model_prediction in models_prediction_dictionary.iteritems():\n",
        "  result = matthews_corrcoef(valid_y, model_prediction)\n",
        "  print \"{0} Matthews correlation coefficient result: {1}\".format(model_name, result)"
      ],
      "cell_type": "code",
      "execution_count": 34,
      "outputs": [
        {
          "output_type": "stream",
          "text": [
            "Performance measure calculation using Matthews correlation coefficient:\n",
            "-----------------------------------------------------------------------\n"
          ],
          "name": "stdout"
        },
        {
          "output_type": "error",
          "ename": "ValueError",
          "evalue": "ignored",
          "traceback": [
            "\u001b[0;31m\u001b[0m",
            "\u001b[0;31mValueError\u001b[0mTraceback (most recent call last)",
            "\u001b[0;32m<ipython-input-34-cfcc2da4b9f4>\u001b[0m in \u001b[0;36m<module>\u001b[0;34m()\u001b[0m\n\u001b[1;32m      4\u001b[0m \u001b[0;32mprint\u001b[0m \u001b[0;34m\"-----------------------------------------------------------------------\"\u001b[0m\u001b[0;34m\u001b[0m\u001b[0m\n\u001b[1;32m      5\u001b[0m \u001b[0;32mfor\u001b[0m \u001b[0mmodel_name\u001b[0m\u001b[0;34m,\u001b[0m \u001b[0mmodel_prediction\u001b[0m \u001b[0;32min\u001b[0m \u001b[0mmodels_prediction_dictionary\u001b[0m\u001b[0;34m.\u001b[0m\u001b[0miteritems\u001b[0m\u001b[0;34m(\u001b[0m\u001b[0;34m)\u001b[0m\u001b[0;34m:\u001b[0m\u001b[0;34m\u001b[0m\u001b[0m\n\u001b[0;32m----> 6\u001b[0;31m   \u001b[0mresult\u001b[0m \u001b[0;34m=\u001b[0m \u001b[0mmatthews_corrcoef\u001b[0m\u001b[0;34m(\u001b[0m\u001b[0mvalid_y\u001b[0m\u001b[0;34m,\u001b[0m \u001b[0mmodel_prediction\u001b[0m\u001b[0;34m)\u001b[0m\u001b[0;34m\u001b[0m\u001b[0m\n\u001b[0m\u001b[1;32m      7\u001b[0m   \u001b[0;32mprint\u001b[0m \u001b[0;34m\"{0} Matthews correlation coefficient result: {1}\"\u001b[0m\u001b[0;34m.\u001b[0m\u001b[0mformat\u001b[0m\u001b[0;34m(\u001b[0m\u001b[0mmodel_name\u001b[0m\u001b[0;34m,\u001b[0m \u001b[0mresult\u001b[0m\u001b[0;34m)\u001b[0m\u001b[0;34m\u001b[0m\u001b[0m\n",
            "\u001b[0;32m/usr/local/lib/python2.7/dist-packages/sklearn/metrics/classification.pyc\u001b[0m in \u001b[0;36mmatthews_corrcoef\u001b[0;34m(y_true, y_pred, sample_weight)\u001b[0m\n\u001b[1;32m    498\u001b[0m \u001b[0;34m\u001b[0m\u001b[0m\n\u001b[1;32m    499\u001b[0m     \u001b[0;32mif\u001b[0m \u001b[0my_type\u001b[0m \u001b[0;34m!=\u001b[0m \u001b[0;34m\"binary\"\u001b[0m\u001b[0;34m:\u001b[0m\u001b[0;34m\u001b[0m\u001b[0m\n\u001b[0;32m--> 500\u001b[0;31m         \u001b[0;32mraise\u001b[0m \u001b[0mValueError\u001b[0m\u001b[0;34m(\u001b[0m\u001b[0;34m\"%s is not supported\"\u001b[0m \u001b[0;34m%\u001b[0m \u001b[0my_type\u001b[0m\u001b[0;34m)\u001b[0m\u001b[0;34m\u001b[0m\u001b[0m\n\u001b[0m\u001b[1;32m    501\u001b[0m \u001b[0;34m\u001b[0m\u001b[0m\n\u001b[1;32m    502\u001b[0m     \u001b[0mlb\u001b[0m \u001b[0;34m=\u001b[0m \u001b[0mLabelEncoder\u001b[0m\u001b[0;34m(\u001b[0m\u001b[0;34m)\u001b[0m\u001b[0;34m\u001b[0m\u001b[0m\n",
            "\u001b[0;31mValueError\u001b[0m: multiclass is not supported"
          ]
        }
      ]
    },
    {
      "metadata": {
        "id": "gyfG7qabSbhN",
        "colab_type": "text"
      },
      "source": [
        "###Accuracy classification score"
      ],
      "cell_type": "markdown"
    },
    {
      "metadata": {
        "id": "V19Pget_Sbzi",
        "colab_type": "code",
        "colab": {
          "autoexec": {
            "startup": false,
            "wait_interval": 0
          },
          "output_extras": [
            {
              "item_id": 1
            }
          ],
          "base_uri": "https://localhost:8080/",
          "height": 119
        },
        "outputId": "81cd8cfc-867a-4a6a-fc8d-aacbf9bcebbc",
        "executionInfo": {
          "status": "ok",
          "timestamp": 1514042130510,
          "user_tz": -120,
          "elapsed": 626,
          "user": {
            "displayName": "Dan Nir",
            "photoUrl": "https://lh3.googleusercontent.com/a/default-user=s128",
            "userId": "108190517583252561596"
          }
        }
      },
      "source": [
        "from sklearn.metrics import accuracy_score\n",
        "\n",
        "print \"Performance measure calculation using Accuracy classification score:\"\n",
        "print \"--------------------------------------------------------------------\"\n",
        "for model_name, model_prediction in models_prediction_dictionary.iteritems():\n",
        "  result = accuracy_score(valid_y, model_prediction)\n",
        "  print \"{0} Accuracy classification score result: {1}\".format(model_name, result)"
      ],
      "cell_type": "code",
      "execution_count": 50,
      "outputs": [
        {
          "output_type": "stream",
          "text": [
            "Performance measure calculation using Accuracy classification score:\n",
            "--------------------------------------------------------------------\n",
            "KNN Accuracy classification score result: 0.931069958848\n",
            "DecisionTree Accuracy classification score result: 0.921810699588\n",
            "Perceptron Accuracy classification score result: 0.943930041152\n",
            "SVC Accuracy classification score result: 0.908950617284\n"
          ],
          "name": "stdout"
        }
      ]
    },
    {
      "metadata": {
        "id": "jiLtyaiHy3-n",
        "colab_type": "text"
      },
      "source": [
        "###Confusion Matrix"
      ],
      "cell_type": "markdown"
    },
    {
      "metadata": {
        "id": "gqY7EO5XucOl",
        "colab_type": "code",
        "colab": {
          "autoexec": {
            "startup": false,
            "wait_interval": 0
          },
          "output_extras": [
            {
              "item_id": 1
            },
            {
              "item_id": 2
            },
            {
              "item_id": 3
            },
            {
              "item_id": 4
            },
            {
              "item_id": 5
            },
            {
              "item_id": 6
            },
            {
              "item_id": 7
            },
            {
              "item_id": 8
            },
            {
              "item_id": 9
            },
            {
              "item_id": 10
            },
            {
              "item_id": 11
            },
            {
              "item_id": 12
            },
            {
              "item_id": 13
            },
            {
              "item_id": 14
            },
            {
              "item_id": 15
            },
            {
              "item_id": 16
            }
          ],
          "base_uri": "https://localhost:8080/",
          "height": 4939
        },
        "outputId": "0af061d5-2b4c-41cb-f85a-68df9a0bfddc",
        "executionInfo": {
          "status": "ok",
          "timestamp": 1514045920234,
          "user_tz": -120,
          "elapsed": 4782,
          "user": {
            "displayName": "Dan Nir",
            "photoUrl": "https://lh3.googleusercontent.com/a/default-user=s128",
            "userId": "108190517583252561596"
          }
        }
      },
      "source": [
        "from sklearn.metrics import confusion_matrix\n",
        "\n",
        "print \"Performance measure calculation using Confusion Matrix:\"\n",
        "print \"-------------------------------------------------------\"\n",
        "for model_name, model_prediction in models_prediction_dictionary.iteritems():  \n",
        "  # Compute confusion matrix\n",
        "  conf_matrix = confusion_matrix(valid_y, model_prediction)\n",
        "  np.set_printoptions(precision=2)\n",
        "\n",
        "  # Plot non-normalized confusion matrix\n",
        "  plt.figure(figsize = (6,6))\n",
        "  plot_confusion_matrix(conf_matrix, classes_names, False, \"{0} Confusion Matrix\".format(model_name), plt.cm.Blues)\n",
        "  plt.show()\n",
        "\n",
        "  # Plot normalized confusion matrix\n",
        "  plt.figure(figsize = (6,6))\n",
        "  plot_confusion_matrix(conf_matrix, classes_names, True, \"{0} Normalized Confusion Matrix\".format(model_name), plt.cm.Reds)\n",
        "  plt.show()"
      ],
      "cell_type": "code",
      "execution_count": 124,
      "outputs": [
        {
          "output_type": "stream",
          "text": [
            "Performance measure calculation using Confusion Matrix:\n",
            "-------------------------------------------------------\n",
            "KNN Confusion Matrix\n",
            "[[148   0   1   0   0   0   1   0   0  12]\n",
            " [  0 369   0   0   0   0   1   0   2   0]\n",
            " [  0   0 326   0   0   0   0   0   0   0]\n",
            " [  0   0   0  95   6   0   0   9   0   0]\n",
            " [  0   0   0   7  86   0   0  14   0   0]\n",
            " [  0  20   0   0   0 188   1   0   0   0]\n",
            " [  0   1   4   0   0   2 406   0   0   0]\n",
            " [  0   0   0   1   4   0   0 103   0   0]\n",
            " [  0  22   0   0   0   1   2   0  42   0]\n",
            " [ 14   2   3   0   0   1   3   0   0  47]]\n"
          ],
          "name": "stdout"
        },
        {
          "output_type": "display_data",
          "data": {
            "image/png": "[encoded data removed]",
            "text/plain": [
              "<matplotlib.figure.Figure at 0x7f1c6b638a90>"
            ]
          },
          "metadata": {
            "tags": []
          }
        },
        {
          "output_type": "stream",
          "text": [
            "KNN Normalized Confusion Matrix\n",
            "[[ 0.91  0.    0.01  0.    0.    0.    0.01  0.    0.    0.07]\n",
            " [ 0.    0.99  0.    0.    0.    0.    0.    0.    0.01  0.  ]\n",
            " [ 0.    0.    1.    0.    0.    0.    0.    0.    0.    0.  ]\n",
            " [ 0.    0.    0.    0.86  0.05  0.    0.    0.08  0.    0.  ]\n",
            " [ 0.    0.    0.    0.07  0.8   0.    0.    0.13  0.    0.  ]\n",
            " [ 0.    0.1   0.    0.    0.    0.9   0.    0.    0.    0.  ]\n",
            " [ 0.    0.    0.01  0.    0.    0.    0.98  0.    0.    0.  ]\n",
            " [ 0.    0.    0.    0.01  0.04  0.    0.    0.95  0.    0.  ]\n",
            " [ 0.    0.33  0.    0.    0.    0.01  0.03  0.    0.63  0.  ]\n",
            " [ 0.2   0.03  0.04  0.    0.    0.01  0.04  0.    0.    0.67]]\n"
          ],
          "name": "stdout"
        },
        {
          "output_type": "display_data",
          "data": {
            "image/png": "[encoded data removed]",
            "text/plain": [
              "<matplotlib.figure.Figure at 0x7f1c6b690650>"
            ]
          },
          "metadata": {
            "tags": []
          }
        },
        {
          "output_type": "stream",
          "text": [
            "DecisionTree Confusion Matrix\n",
            "[[149   0   0   0   0   0   0   0   0  13]\n",
            " [  0 340   0   0   0  12   7   0  13   0]\n",
            " [  0   0 323   0   0   0   2   0   1   0]\n",
            " [  0   0   0 108   2   0   0   0   0   0]\n",
            " [  0   0   0   4  98   0   0   5   0   0]\n",
            " [  0  22   0   0   0 177   7   0   3   0]\n",
            " [  0   6   1   0   0  11 390   0   5   0]\n",
            " [  0   0   0   0   3   0   0 105   0   0]\n",
            " [  0  15   0   0   0   1   2   0  49   0]\n",
            " [ 12   0   0   0   0   0   0   0   0  58]]\n"
          ],
          "name": "stdout"
        },
        {
          "output_type": "display_data",
          "data": {
            "image/png": "[encoded data removed]",
            "text/plain": [
              "<matplotlib.figure.Figure at 0x7f1cab564e10>"
            ]
          },
          "metadata": {
            "tags": []
          }
        },
        {
          "output_type": "stream",
          "text": [
            "DecisionTree Normalized Confusion Matrix\n",
            "[[ 0.92  0.    0.    0.    0.    0.    0.    0.    0.    0.08]\n",
            " [ 0.    0.91  0.    0.    0.    0.03  0.02  0.    0.03  0.  ]\n",
            " [ 0.    0.    0.99  0.    0.    0.    0.01  0.    0.    0.  ]\n",
            " [ 0.    0.    0.    0.98  0.02  0.    0.    0.    0.    0.  ]\n",
            " [ 0.    0.    0.    0.04  0.92  0.    0.    0.05  0.    0.  ]\n",
            " [ 0.    0.11  0.    0.    0.    0.85  0.03  0.    0.01  0.  ]\n",
            " [ 0.    0.01  0.    0.    0.    0.03  0.94  0.    0.01  0.  ]\n",
            " [ 0.    0.    0.    0.    0.03  0.    0.    0.97  0.    0.  ]\n",
            " [ 0.    0.22  0.    0.    0.    0.01  0.03  0.    0.73  0.  ]\n",
            " [ 0.17  0.    0.    0.    0.    0.    0.    0.    0.    0.83]]\n"
          ],
          "name": "stdout"
        },
        {
          "output_type": "display_data",
          "data": {
            "image/png": "[encoded data removed]",
            "text/plain": [
              "<matplotlib.figure.Figure at 0x7f1c6b56fa50>"
            ]
          },
          "metadata": {
            "tags": []
          }
        },
        {
          "output_type": "stream",
          "text": [
            "Perceptron Confusion Matrix\n",
            "[[154   0   0   0   0   0   0   0   0   8]\n",
            " [  0 366   0   0   0   1   0   0   5   0]\n",
            " [  0   0 326   0   0   0   0   0   0   0]\n",
            " [  0   0   0  99   7   0   0   4   0   0]\n",
            " [  0   0   0   3 104   0   0   0   0   0]\n",
            " [  0  23   0   0   0 184   2   0   0   0]\n",
            " [  0   2   1   0   0   4 405   0   1   0]\n",
            " [  0   0   0   2   5   0   0 101   0   0]\n",
            " [  0  15   0   0   0   0   2   0  50   0]\n",
            " [ 27   0   0   0   0   0   0   0   0  43]]\n"
          ],
          "name": "stdout"
        },
        {
          "output_type": "display_data",
          "data": {
            "image/png": "[encoded data removed]",
            "text/plain": [
              "<matplotlib.figure.Figure at 0x7f1c6b574a90>"
            ]
          },
          "metadata": {
            "tags": []
          }
        },
        {
          "output_type": "stream",
          "text": [
            "Perceptron Normalized Confusion Matrix\n",
            "[[ 0.95  0.    0.    0.    0.    0.    0.    0.    0.    0.05]\n",
            " [ 0.    0.98  0.    0.    0.    0.    0.    0.    0.01  0.  ]\n",
            " [ 0.    0.    1.    0.    0.    0.    0.    0.    0.    0.  ]\n",
            " [ 0.    0.    0.    0.9   0.06  0.    0.    0.04  0.    0.  ]\n",
            " [ 0.    0.    0.    0.03  0.97  0.    0.    0.    0.    0.  ]\n",
            " [ 0.    0.11  0.    0.    0.    0.88  0.01  0.    0.    0.  ]\n",
            " [ 0.    0.    0.    0.    0.    0.01  0.98  0.    0.    0.  ]\n",
            " [ 0.    0.    0.    0.02  0.05  0.    0.    0.94  0.    0.  ]\n",
            " [ 0.    0.22  0.    0.    0.    0.    0.03  0.    0.75  0.  ]\n",
            " [ 0.39  0.    0.    0.    0.    0.    0.    0.    0.    0.61]]\n"
          ],
          "name": "stdout"
        },
        {
          "output_type": "display_data",
          "data": {
            "image/png": "[encoded data removed]",
            "text/plain": [
              "<matplotlib.figure.Figure at 0x7f1c6b213e50>"
            ]
          },
          "metadata": {
            "tags": []
          }
        },
        {
          "output_type": "stream",
          "text": [
            "SVC Confusion Matrix\n",
            "[[147   0   2   0   0   0   0   0   0  13]\n",
            " [  0 370   0   0   0   1   1   0   0   0]\n",
            " [  0   0 326   0   0   0   0   0   0   0]\n",
            " [  0   0   0  92   9   0   0   9   0   0]\n",
            " [  0   0   0   8  99   0   0   0   0   0]\n",
            " [  0  49   2   0   0 149   7   0   2   0]\n",
            " [  0   2   2   0   0   1 407   0   1   0]\n",
            " [  0   0   0   4   7   0   0  97   0   0]\n",
            " [  0  21   0   0   0   5   8   0  33   0]\n",
            " [ 24   0   0   0   0   0   0   0   0  46]]\n"
          ],
          "name": "stdout"
        },
        {
          "output_type": "display_data",
          "data": {
            "image/png": "[encoded data removed]",
            "text/plain": [
              "<matplotlib.figure.Figure at 0x7f1c6966c4d0>"
            ]
          },
          "metadata": {
            "tags": []
          }
        },
        {
          "output_type": "stream",
          "text": [
            "SVC Normalized Confusion Matrix\n",
            "[[ 0.91  0.    0.01  0.    0.    0.    0.    0.    0.    0.08]\n",
            " [ 0.    0.99  0.    0.    0.    0.    0.    0.    0.    0.  ]\n",
            " [ 0.    0.    1.    0.    0.    0.    0.    0.    0.    0.  ]\n",
            " [ 0.    0.    0.    0.84  0.08  0.    0.    0.08  0.    0.  ]\n",
            " [ 0.    0.    0.    0.07  0.93  0.    0.    0.    0.    0.  ]\n",
            " [ 0.    0.23  0.01  0.    0.    0.71  0.03  0.    0.01  0.  ]\n",
            " [ 0.    0.    0.    0.    0.    0.    0.99  0.    0.    0.  ]\n",
            " [ 0.    0.    0.    0.04  0.06  0.    0.    0.9   0.    0.  ]\n",
            " [ 0.    0.31  0.    0.    0.    0.07  0.12  0.    0.49  0.  ]\n",
            " [ 0.34  0.    0.    0.    0.    0.    0.    0.    0.    0.66]]\n"
          ],
          "name": "stdout"
        },
        {
          "output_type": "display_data",
          "data": {
            "image/png": "[encoded data removed]",
            "text/plain": [
              "<matplotlib.figure.Figure at 0x7f1c6b436410>"
            ]
          },
          "metadata": {
            "tags": []
          }
        }
      ]
    },
    {
      "metadata": {
        "id": "-TfHUmRPy7VC",
        "colab_type": "text"
      },
      "source": [
        "###Classification Report"
      ],
      "cell_type": "markdown"
    },
    {
      "metadata": {
        "id": "aZUj6AtmucS3",
        "colab_type": "code",
        "colab": {
          "autoexec": {
            "startup": false,
            "wait_interval": 0
          },
          "output_extras": [
            {
              "item_id": 1
            }
          ],
          "base_uri": "https://localhost:8080/",
          "height": 1139
        },
        "outputId": "c71a72ad-d095-408a-b74f-a5ff29dfa729",
        "executionInfo": {
          "status": "ok",
          "timestamp": 1514043044661,
          "user_tz": -120,
          "elapsed": 796,
          "user": {
            "displayName": "Dan Nir",
            "photoUrl": "https://lh3.googleusercontent.com/a/default-user=s128",
            "userId": "108190517583252561596"
          }
        }
      },
      "source": [
        "from sklearn.metrics import classification_report\n",
        "\n",
        "print \"Performance measure calculation using Classification Report:\"\n",
        "print \"-------------------------------------------------------\"\n",
        "for model_name, model_prediction in models_prediction_dictionary.iteritems():\n",
        "  class_report = classification_report(valid_y, model_prediction, target_names=classes_names)\n",
        "  print \"{0} Confusion Matrix\".format(model_name)\n",
        "  print class_report"
      ],
      "cell_type": "code",
      "execution_count": 90,
      "outputs": [
        {
          "output_type": "stream",
          "text": [
            "Performance measure calculation using Classification Report:\n",
            "-------------------------------------------------------\n",
            "KNN Confusion Matrix\n",
            "             precision    recall  f1-score   support\n",
            "\n",
            "        0.0       0.91      0.91      0.91       162\n",
            "        1.0       0.89      0.99      0.94       372\n",
            "        2.0       0.98      1.00      0.99       326\n",
            "        3.0       0.92      0.86      0.89       110\n",
            "        4.0       0.90      0.80      0.85       107\n",
            "        5.0       0.98      0.90      0.94       209\n",
            "        6.0       0.98      0.98      0.98       413\n",
            "        7.0       0.82      0.95      0.88       108\n",
            "        8.0       0.95      0.63      0.76        67\n",
            "        9.0       0.80      0.67      0.73        70\n",
            "\n",
            "avg / total       0.93      0.93      0.93      1944\n",
            "\n",
            "DecisionTree Confusion Matrix\n",
            "             precision    recall  f1-score   support\n",
            "\n",
            "        0.0       0.93      0.92      0.92       162\n",
            "        1.0       0.89      0.91      0.90       372\n",
            "        2.0       1.00      0.99      0.99       326\n",
            "        3.0       0.96      0.98      0.97       110\n",
            "        4.0       0.95      0.92      0.93       107\n",
            "        5.0       0.88      0.85      0.86       209\n",
            "        6.0       0.96      0.94      0.95       413\n",
            "        7.0       0.95      0.97      0.96       108\n",
            "        8.0       0.69      0.73      0.71        67\n",
            "        9.0       0.82      0.83      0.82        70\n",
            "\n",
            "avg / total       0.93      0.92      0.92      1944\n",
            "\n",
            "Perceptron Confusion Matrix\n",
            "             precision    recall  f1-score   support\n",
            "\n",
            "        0.0       0.85      0.95      0.90       162\n",
            "        1.0       0.90      0.98      0.94       372\n",
            "        2.0       1.00      1.00      1.00       326\n",
            "        3.0       0.95      0.90      0.93       110\n",
            "        4.0       0.90      0.97      0.93       107\n",
            "        5.0       0.97      0.88      0.92       209\n",
            "        6.0       0.99      0.98      0.99       413\n",
            "        7.0       0.96      0.94      0.95       108\n",
            "        8.0       0.89      0.75      0.81        67\n",
            "        9.0       0.84      0.61      0.71        70\n",
            "\n",
            "avg / total       0.94      0.94      0.94      1944\n",
            "\n",
            "SVC Confusion Matrix\n",
            "             precision    recall  f1-score   support\n",
            "\n",
            "        0.0       0.86      0.91      0.88       162\n",
            "        1.0       0.84      0.99      0.91       372\n",
            "        2.0       0.98      1.00      0.99       326\n",
            "        3.0       0.88      0.84      0.86       110\n",
            "        4.0       0.86      0.93      0.89       107\n",
            "        5.0       0.96      0.71      0.82       209\n",
            "        6.0       0.96      0.99      0.97       413\n",
            "        7.0       0.92      0.90      0.91       108\n",
            "        8.0       0.92      0.49      0.64        67\n",
            "        9.0       0.78      0.66      0.71        70\n",
            "\n",
            "avg / total       0.91      0.91      0.90      1944\n",
            "\n"
          ],
          "name": "stdout"
        }
      ]
    },
    {
      "metadata": {
        "id": "cwOjTPButGsb",
        "colab_type": "text"
      },
      "source": [
        "# 5. Select the best model for the prediction tasks"
      ],
      "cell_type": "markdown"
    },
    {
      "metadata": {
        "id": "myEr_F17tMgP",
        "colab_type": "text"
      },
      "source": [
        "## Manual selection of the model, based on the performance measurements"
      ],
      "cell_type": "markdown"
    },
    {
      "metadata": {
        "id": "RKOcGu1azpOc",
        "colab_type": "code",
        "colab": {
          "autoexec": {
            "startup": false,
            "wait_interval": 0
          },
          "output_extras": [
            {
              "item_id": 1
            }
          ],
          "base_uri": "https://localhost:8080/",
          "height": 34
        },
        "outputId": "8466ea23-b7ad-4adb-9d6d-3caca09f5713",
        "executionInfo": {
          "status": "ok",
          "timestamp": 1514043677014,
          "user_tz": -120,
          "elapsed": 583,
          "user": {
            "displayName": "Dan Nir",
            "photoUrl": "https://lh3.googleusercontent.com/a/default-user=s128",
            "userId": "108190517583252561596"
          }
        }
      },
      "source": [
        "# As we can see in the performance measure of the trained models, we got that on the validation set the MLP (Multi-layer Perceptron) was the best model for out dataset.\n",
        "# Therefore that model is the selected one for this Execise.\n",
        "\n",
        "# Perceptron Accuracy classification score result: 0.942901234568\n",
        "manual_selected_model = \"Perceptron\"\n",
        "print manual_selected_model"
      ],
      "cell_type": "code",
      "execution_count": 106,
      "outputs": [
        {
          "output_type": "stream",
          "text": [
            "Perceptron\n"
          ],
          "name": "stdout"
        }
      ]
    },
    {
      "metadata": {
        "id": "SUxpqGJ_uUby",
        "colab_type": "text"
      },
      "source": [
        "## Automatic selection of the model, based on the performance measurements (Bonus)"
      ],
      "cell_type": "markdown"
    },
    {
      "metadata": {
        "id": "Kk5oLqVmAbsd",
        "colab_type": "code",
        "colab": {
          "autoexec": {
            "startup": false,
            "wait_interval": 0
          },
          "output_extras": [
            {
              "item_id": 1
            }
          ],
          "base_uri": "https://localhost:8080/",
          "height": 34
        },
        "outputId": "947af69b-3032-4aa0-be9d-0efa800ebbac",
        "executionInfo": {
          "status": "ok",
          "timestamp": 1514043678985,
          "user_tz": -120,
          "elapsed": 575,
          "user": {
            "displayName": "Dan Nir",
            "photoUrl": "https://lh3.googleusercontent.com/a/default-user=s128",
            "userId": "108190517583252561596"
          }
        }
      },
      "source": [
        "import operator\n",
        "\n",
        "best_model_by_accuracy = max(models_accuracy_dictionary.iteritems(), key=operator.itemgetter(1))[0]\n",
        "automatic_selected_model = best_model_by_accuracy\n",
        "print best_model_by_accuracy"
      ],
      "cell_type": "code",
      "execution_count": 107,
      "outputs": [
        {
          "output_type": "stream",
          "text": [
            "Perceptron\n"
          ],
          "name": "stdout"
        }
      ]
    },
    {
      "metadata": {
        "id": "KspTwbS7tgVL",
        "colab_type": "text"
      },
      "source": [
        "# 6. Using the selected model to provide answers for the following questions"
      ],
      "cell_type": "markdown"
    },
    {
      "metadata": {
        "id": "81R2hryMqDLM",
        "colab_type": "text"
      },
      "source": [
        "## Preperation"
      ],
      "cell_type": "markdown"
    },
    {
      "metadata": {
        "id": "IFAr3FqGVmSm",
        "colab_type": "code",
        "colab": {
          "autoexec": {
            "startup": false,
            "wait_interval": 0
          }
        }
      },
      "source": [
        "labels_dictionary = {0.0: \"Blues\",\n",
        "                     1.0: \"Browns\",\n",
        "                     2.0: \"Greens\",\n",
        "                     3.0: \"Greys\",\n",
        "                     4.0: \"Oranges\",\n",
        "                     5.0: \"Pinks\",\n",
        "                     6.0: \"Purples\",\n",
        "                     7.0: \"Reds\",\n",
        "                     8.0: \"Whites\",\n",
        "                     9.0: \"Yellows\"}\n",
        "\n",
        "labels = [0.0, 1.0, 2.0, 3.0, 4.0, 5.0, 6.0, 7.0, 8.0, 9.0]\n",
        "colors = [\"blue\", \"brown\", \"green\", \"grey\", \"orange\", \"pink\", \"purple\", \"red\", \"white\", \"yellow\"]\n",
        "\n",
        "prediction_label_count = group_by_count(sorted(models_prediction_dictionary[manual_selected_model]))\n",
        "prediction_values = prediction_label_count.values()"
      ],
      "cell_type": "code",
      "execution_count": 0,
      "outputs": []
    },
    {
      "metadata": {
        "id": "VGsgrAuntoAs",
        "colab_type": "text"
      },
      "source": [
        "## Predict to which party each person in the valid set will vote (predict the label of each row in the valid set)"
      ],
      "cell_type": "markdown"
    },
    {
      "metadata": {
        "id": "0CkCMotVuFpj",
        "colab_type": "text"
      },
      "source": [
        "### Predict which party will win the majority of votes"
      ],
      "cell_type": "markdown"
    },
    {
      "metadata": {
        "id": "Ah10UIs1b5PZ",
        "colab_type": "code",
        "colab": {
          "autoexec": {
            "startup": false,
            "wait_interval": 0
          },
          "output_extras": [
            {
              "item_id": 1
            }
          ],
          "base_uri": "https://localhost:8080/",
          "height": 34
        },
        "outputId": "ef6ac012-1154-41a8-8bc5-fd796a2dd24b",
        "executionInfo": {
          "status": "ok",
          "timestamp": 1514044350197,
          "user_tz": -120,
          "elapsed": 580,
          "user": {
            "displayName": "Dan Nir",
            "photoUrl": "https://lh3.googleusercontent.com/a/default-user=s128",
            "userId": "108190517583252561596"
          }
        }
      },
      "source": [
        "winning_party = max(zip(prediction_label_count.values(), prediction_label_count.keys()))\n",
        "print \"The winning party is: {0} ({1}), with {2} votes.\".format(labels_dictionary[winning_party[1]], winning_party[1], winning_party[0])"
      ],
      "cell_type": "code",
      "execution_count": 109,
      "outputs": [
        {
          "output_type": "stream",
          "text": [
            "The winning party is: Purples (6.0), with 409 votes.\n"
          ],
          "name": "stdout"
        }
      ]
    },
    {
      "metadata": {
        "id": "aIXgdrSJuJKk",
        "colab_type": "text"
      },
      "source": [
        "### Predict the division of voters between the various parties (the percentage of votes per party)"
      ],
      "cell_type": "markdown"
    },
    {
      "metadata": {
        "id": "JY_cNu2SbQUl",
        "colab_type": "code",
        "colab": {
          "autoexec": {
            "startup": false,
            "wait_interval": 0
          },
          "output_extras": [
            {
              "item_id": 1
            }
          ],
          "base_uri": "https://localhost:8080/",
          "height": 586
        },
        "outputId": "19dd18ee-986b-4ebd-a322-cb9524ef5fb7",
        "executionInfo": {
          "status": "ok",
          "timestamp": 1514044762523,
          "user_tz": -120,
          "elapsed": 680,
          "user": {
            "displayName": "Dan Nir",
            "photoUrl": "https://lh3.googleusercontent.com/a/default-user=s128",
            "userId": "108190517583252561596"
          }
        }
      },
      "source": [
        "# Pie chart, where the slices will be ordered and plotted counter-clockwise:\n",
        "explode = (0.0, 0.0, 0.0, 0.0, 0.0, 0.0, 0.0, 0.0, 0.0, 0.0)\n",
        "\n",
        "fig1, ax1 = plt.subplots(figsize=(10,10))\n",
        "ax1.pie(prediction_values, explode=explode, labels=labels, colors=colors, autopct='%1.1f%%', shadow=True, startangle=90)\n",
        "ax1.axis('equal')  # Equal aspect ratio ensures that pie is drawn as a circle.\n",
        "plt.show()"
      ],
      "cell_type": "code",
      "execution_count": 114,
      "outputs": [
        {
          "output_type": "display_data",
          "data": {
            "image/png": "[encoded data removed]",
            "text/plain": [
              "<matplotlib.figure.Figure at 0x7f1c7250ac90>"
            ]
          },
          "metadata": {
            "tags": []
          }
        }
      ]
    },
    {
      "metadata": {
        "id": "4eQP7n8wuJSi",
        "colab_type": "text"
      },
      "source": [
        "### On the Election Day, each party would like to suggest transportation services for its voters (Provide each party with a list of its most probable voters)"
      ],
      "cell_type": "markdown"
    },
    {
      "metadata": {
        "id": "cjYTHOkVINL4",
        "colab_type": "code",
        "colab": {
          "autoexec": {
            "startup": false,
            "wait_interval": 0
          }
        }
      },
      "source": [
        "# Nothing to do ..."
      ],
      "cell_type": "code",
      "execution_count": 0,
      "outputs": []
    },
    {
      "metadata": {
        "id": "Vypr5rFuvoMX",
        "colab_type": "text"
      },
      "source": [
        "### Identify the factor (voters’ characteristic) which by manipulating you are most likely to change which party will win the election (Bonus)"
      ],
      "cell_type": "markdown"
    },
    {
      "metadata": {
        "id": "qG31vsmFUtiQ",
        "colab_type": "code",
        "colab": {
          "autoexec": {
            "startup": false,
            "wait_interval": 0
          },
          "output_extras": [
            {
              "item_id": 1
            },
            {
              "item_id": 2
            },
            {
              "item_id": 3
            },
            {
              "item_id": 4
            },
            {
              "item_id": 6
            },
            {
              "item_id": 7
            }
          ],
          "base_uri": "https://localhost:8080/",
          "height": 1693
        },
        "outputId": "35ce3cec-78a1-4034-e7a5-4fef6697b09c",
        "executionInfo": {
          "status": "ok",
          "timestamp": 1514046952788,
          "user_tz": -120,
          "elapsed": 3410,
          "user": {
            "displayName": "Dan Nir",
            "photoUrl": "https://lh3.googleusercontent.com/a/default-user=s128",
            "userId": "108190517583252561596"
          }
        }
      },
      "source": [
        "from sklearn.feature_selection import SelectPercentile\n",
        "from sklearn.feature_selection import SelectKBest\n",
        "from sklearn.feature_selection import mutual_info_classif\n",
        "from sklearn.feature_selection import f_classif\n",
        "from sklearn.feature_selection import mutual_info_regression\n",
        "\n",
        "def plot_feature_selection_comparision(X, classif_scores, MI_scores):\n",
        "    X_indexes = np.arange(X.shape[-1])\n",
        "    print X_indexes\n",
        "    plt.bar(X_indexes, classif_scores, label=\"f_classif\", color=\"r\")\n",
        "    plt.bar(X_indexes, MI_scores, label=\"MI\", color=\"b\")\n",
        "    plt.title(\"Comparing Univariate Feature Importance\")\n",
        "    plt.xlabel('Feature Number')\n",
        "    plt.ylabel('Importance')\n",
        "    plt.xticks(range(0, X.shape[-1]))\n",
        "    plt.yticks(())\n",
        "    plt.legend(loc='upper right')\n",
        "    plt.show()\n",
        "\n",
        "def show_feature_importance(X, y):\n",
        "  percentile = 100\n",
        "  \n",
        "  selector_classif = SelectPercentile(score_func=f_classif, percentile=0)\n",
        "  selector_mi = SelectPercentile(score_func=mutual_info_classif, percentile=percentile)\n",
        "  \n",
        "  selector_classif.fit(train_X, train_y)\n",
        "  classif_scores = selector_classif.scores_\n",
        "  classif_scores /= classif_scores.max()\n",
        "  classif_features_percent = selector_classif.transform(train_X)\n",
        "  print classif_features_percent.shape\n",
        "  print classif_scores\n",
        "  \n",
        "  selector_mi.fit(train_X, train_y)\n",
        "  MI_scores = selector_mi.scores_\n",
        "  MI_scores /= MI_scores.max()\n",
        "  MI_features_percent = selector_mi.transform(train_X)\n",
        "  print MI_features_percent.shape\n",
        "  print MI_scores\n",
        "  \n",
        "  plot_feature_selection_comparision(train_X, classif_scores, MI_scores)\n",
        "  \n",
        "print \"Train dataset features importance:\"\n",
        "print \"----------------------------------\"\n",
        "print train_X.info()\n",
        "show_feature_importance(train_X, train_y)\n",
        "\n",
        "print \"\"\n",
        "print \"Valid dataset features importance:\"\n",
        "print \"----------------------------------\"\n",
        "print valid_X.info()\n",
        "show_feature_importance(valid_X, valid_y)"
      ],
      "cell_type": "code",
      "execution_count": 144,
      "outputs": [
        {
          "output_type": "stream",
          "text": [
            "Train dataset features importance:\n",
            "----------------------------------\n",
            "<class 'pandas.core.frame.DataFrame'>\n",
            "RangeIndex: 5831 entries, 0 to 5830\n",
            "Data columns (total 17 columns):\n",
            "Number_of_valued_Kneset_members                  5831 non-null float64\n",
            "Yearly_IncomeK                                   5831 non-null float64\n",
            "Overall_happiness_score                          5831 non-null float64\n",
            "Avg_Satisfaction_with_previous_vote              5831 non-null float64\n",
            "Garden_sqr_meter_per_person_in_residancy_area    5831 non-null float64\n",
            "Weighted_education_rank                          5831 non-null float64\n",
            "Will_vote_only_large_party_1.0                   5831 non-null int64\n",
            "Will_vote_only_large_party_0.0                   5831 non-null int64\n",
            "Will_vote_only_large_party_2.0                   5831 non-null int64\n",
            "Most_Important_Issue_4.0                         5831 non-null int64\n",
            "Most_Important_Issue_1.0                         5831 non-null int64\n",
            "Most_Important_Issue_7.0                         5831 non-null int64\n",
            "Most_Important_Issue_5.0                         5831 non-null int64\n",
            "Most_Important_Issue_2.0                         5831 non-null int64\n",
            "Most_Important_Issue_0.0                         5831 non-null int64\n",
            "Most_Important_Issue_6.0                         5831 non-null int64\n",
            "Most_Important_Issue_3.0                         5831 non-null int64\n",
            "dtypes: float64(6), int64(11)\n",
            "memory usage: 774.5 KB\n",
            "None\n",
            "(5831, 0)\n",
            "[  0.   0.   0.   0.   0.   0.  nan  nan  nan   0.   0.   0.   0.   0.   0.\n",
            "   0.   0.]\n"
          ],
          "name": "stdout"
        },
        {
          "output_type": "stream",
          "text": [
            "/usr/local/lib/python2.7/dist-packages/ipykernel_launcher.py:28: RuntimeWarning: invalid value encountered in divide\n"
          ],
          "name": "stderr"
        },
        {
          "output_type": "stream",
          "text": [
            "(5831, 17)\n",
            "[ 0.53  0.84  0.92  0.4   1.    0.91  0.69  0.52  0.42  0.03  0.03  0.04\n",
            "  0.17  0.03  0.03  0.17  0.15]\n",
            "[ 0  1  2  3  4  5  6  7  8  9 10 11 12 13 14 15 16]\n"
          ],
          "name": "stdout"
        },
        {
          "output_type": "display_data",
          "data": {
            "image/png": "[encoded data removed]",
            "text/plain": [
              "<matplotlib.figure.Figure at 0x7f1c6b62c0d0>"
            ]
          },
          "metadata": {
            "tags": []
          }
        },
        {
          "output_type": "stream",
          "text": [
            "\n",
            "Valid dataset features importance:\n",
            "----------------------------------\n",
            "<class 'pandas.core.frame.DataFrame'>\n",
            "RangeIndex: 1944 entries, 0 to 1943\n",
            "Data columns (total 17 columns):\n",
            "Number_of_valued_Kneset_members                  1944 non-null float64\n",
            "Yearly_IncomeK                                   1944 non-null float64\n",
            "Overall_happiness_score                          1944 non-null float64\n",
            "Avg_Satisfaction_with_previous_vote              1944 non-null float64\n",
            "Garden_sqr_meter_per_person_in_residancy_area    1944 non-null float64\n",
            "Weighted_education_rank                          1944 non-null float64\n",
            "Will_vote_only_large_party_1.0                   1944 non-null int64\n",
            "Will_vote_only_large_party_0.0                   1944 non-null int64\n",
            "Will_vote_only_large_party_2.0                   1944 non-null int64\n",
            "Most_Important_Issue_4.0                         1944 non-null int64\n",
            "Most_Important_Issue_1.0                         1944 non-null int64\n",
            "Most_Important_Issue_7.0                         1944 non-null int64\n",
            "Most_Important_Issue_5.0                         1944 non-null int64\n",
            "Most_Important_Issue_2.0                         1944 non-null int64\n",
            "Most_Important_Issue_0.0                         1944 non-null int64\n",
            "Most_Important_Issue_6.0                         1944 non-null int64\n",
            "Most_Important_Issue_3.0                         1944 non-null int64\n",
            "dtypes: float64(6), int64(11)\n",
            "memory usage: 258.3 KB\n",
            "None\n",
            "(5831, 0)\n",
            "[  0.   0.   0.   0.   0.   0.  nan  nan  nan   0.   0.   0.   0.   0.   0.\n",
            "   0.   0.]\n",
            "(5831, 17)\n",
            "[ 0.5   0.84  0.92  0.4   1.    0.91  0.68  0.49  0.42  0.04  0.03  0.04\n",
            "  0.16  0.04  0.03  0.16  0.14]\n",
            "[ 0  1  2  3  4  5  6  7  8  9 10 11 12 13 14 15 16]\n"
          ],
          "name": "stdout"
        },
        {
          "output_type": "display_data",
          "data": {
            "image/png": "[encoded data removed]",
            "text/plain": [
              "<matplotlib.figure.Figure at 0x7f1c69734a50>"
            ]
          },
          "metadata": {
            "tags": []
          }
        }
      ]
    },
    {
      "metadata": {
        "id": "sITM-8gSO3Ug",
        "colab_type": "text"
      },
      "source": [
        "####***We can see in both datasets (Train, Valid) that the feature [Garden_sqr_meter_per_person_in_residancy_area] is the most significate feature in the data set which has the most MI to the label.***\n",
        "####***Therefore by changing this value there is the most probabily that the label prediction will be different.***"
      ],
      "cell_type": "markdown"
    },
    {
      "metadata": {
        "id": "m5oZONaOtoLa",
        "colab_type": "text"
      },
      "source": [
        "## Construct the (valid) confusion matrix and overall test error"
      ],
      "cell_type": "markdown"
    },
    {
      "metadata": {
        "id": "h0LzwP-v3MCh",
        "colab_type": "text"
      },
      "source": [
        "###Diff between True_Y and Pred_Y, display percentage and total number."
      ],
      "cell_type": "markdown"
    },
    {
      "metadata": {
        "id": "HM3q2ZPE3gp4",
        "colab_type": "code",
        "colab": {
          "autoexec": {
            "startup": false,
            "wait_interval": 0
          },
          "output_extras": [
            {
              "item_id": 1
            }
          ],
          "base_uri": "https://localhost:8080/",
          "height": 408
        },
        "outputId": "cd9ce0ad-1df4-499d-d69f-addbc689e06b",
        "executionInfo": {
          "status": "ok",
          "timestamp": 1514057660499,
          "user_tz": -120,
          "elapsed": 574,
          "user": {
            "displayName": "Dan Nir",
            "photoUrl": "https://lh3.googleusercontent.com/a/default-user=s128",
            "userId": "108190517583252561596"
          }
        }
      },
      "source": [
        "valid_X[\"Predicted_Vote\"] = models_prediction_dictionary[manual_selected_model]\n",
        "valid_X.info()"
      ],
      "cell_type": "code",
      "execution_count": 169,
      "outputs": [
        {
          "output_type": "stream",
          "text": [
            "<class 'pandas.core.frame.DataFrame'>\n",
            "RangeIndex: 1944 entries, 0 to 1943\n",
            "Data columns (total 18 columns):\n",
            "Number_of_valued_Kneset_members                  1944 non-null float64\n",
            "Yearly_IncomeK                                   1944 non-null float64\n",
            "Overall_happiness_score                          1944 non-null float64\n",
            "Avg_Satisfaction_with_previous_vote              1944 non-null float64\n",
            "Garden_sqr_meter_per_person_in_residancy_area    1944 non-null float64\n",
            "Weighted_education_rank                          1944 non-null float64\n",
            "Will_vote_only_large_party_1.0                   1944 non-null int64\n",
            "Will_vote_only_large_party_0.0                   1944 non-null int64\n",
            "Will_vote_only_large_party_2.0                   1944 non-null int64\n",
            "Most_Important_Issue_4.0                         1944 non-null int64\n",
            "Most_Important_Issue_1.0                         1944 non-null int64\n",
            "Most_Important_Issue_7.0                         1944 non-null int64\n",
            "Most_Important_Issue_5.0                         1944 non-null int64\n",
            "Most_Important_Issue_2.0                         1944 non-null int64\n",
            "Most_Important_Issue_0.0                         1944 non-null int64\n",
            "Most_Important_Issue_6.0                         1944 non-null int64\n",
            "Most_Important_Issue_3.0                         1944 non-null int64\n",
            "Predicted_Vote                                   1944 non-null float64\n",
            "dtypes: float64(7), int64(11)\n",
            "memory usage: 273.4 KB\n"
          ],
          "name": "stdout"
        }
      ]
    },
    {
      "metadata": {
        "id": "Hcob2n3LQ3C_",
        "colab_type": "code",
        "colab": {
          "autoexec": {
            "startup": false,
            "wait_interval": 0
          },
          "output_extras": [
            {
              "item_id": 1
            }
          ],
          "base_uri": "https://localhost:8080/",
          "height": 85
        },
        "outputId": "fff029b8-4a3b-4154-cd13-1439d0cb0eb3",
        "executionInfo": {
          "status": "ok",
          "timestamp": 1514057443040,
          "user_tz": -120,
          "elapsed": 569,
          "user": {
            "displayName": "Dan Nir",
            "photoUrl": "https://lh3.googleusercontent.com/a/default-user=s128",
            "userId": "108190517583252561596"
          }
        }
      },
      "source": [
        "# Calculate the difference between valid_y and predicted_y\n",
        "dataset_size = len(valid_y)\n",
        "print \"Total dataset size: {0}\".format(dataset_size)\n",
        "matches = [i for i, j in zip(valid_y, models_prediction_dictionary[manual_selected_model]) if i == j]\n",
        "matches_size = len(matches)\n",
        "print \"Matches count: {0}\".format(matches_size)\n",
        "print \"Misses count: {0}\".format(dataset_size - matches_size)\n",
        "print \"Algorithem (True Positive) accuracy: {0}%\".format(float(100*float(matches_size)/float(dataset_size)))"
      ],
      "cell_type": "code",
      "execution_count": 166,
      "outputs": [
        {
          "output_type": "stream",
          "text": [
            "Total dataset size: 1944\n",
            "Matches count: 1832\n",
            "Misses count: 112\n",
            "Algorithem (True Positive) accuracy: 94.2386831276%\n"
          ],
          "name": "stdout"
        }
      ]
    },
    {
      "metadata": {
        "id": "Ttw8Ky9h3BsV",
        "colab_type": "text"
      },
      "source": [
        "### Save validation dataset with Predicated Votes"
      ],
      "cell_type": "markdown"
    },
    {
      "metadata": {
        "id": "4NT-h0SY2zk9",
        "colab_type": "code",
        "colab": {
          "autoexec": {
            "startup": false,
            "wait_interval": 0
          }
        }
      },
      "source": [
        "valid_X.to_csv(\"Valid_X_with_Predicted_Vote.csv\", index=False)"
      ],
      "cell_type": "code",
      "execution_count": 0,
      "outputs": []
    },
    {
      "metadata": {
        "id": "dmBV99GG3iNs",
        "colab_type": "code",
        "colab": {
          "autoexec": {
            "startup": false,
            "wait_interval": 0
          },
          "output_extras": [
            {
              "item_id": 1
            }
          ],
          "base_uri": "https://localhost:8080/",
          "height": 51
        },
        "outputId": "0261e4fe-b7b4-4599-803b-f1c3569eb5c9",
        "executionInfo": {
          "status": "ok",
          "timestamp": 1514057726732,
          "user_tz": -120,
          "elapsed": 1373,
          "user": {
            "displayName": "Dan Nir",
            "photoUrl": "https://lh3.googleusercontent.com/a/default-user=s128",
            "userId": "108190517583252561596"
          }
        }
      },
      "source": [
        "!ls"
      ],
      "cell_type": "code",
      "execution_count": 174,
      "outputs": [
        {
          "output_type": "stream",
          "text": [
            "BAK\t train_X.csv  validation_X.csv\tValid_X_with_Predicted_Vote.csv\r\n",
            "datalab  train_y.csv  validation_y.csv\r\n"
          ],
          "name": "stdout"
        }
      ]
    },
    {
      "metadata": {
        "id": "Oh-m93qT3iIZ",
        "colab_type": "code",
        "colab": {
          "autoexec": {
            "startup": false,
            "wait_interval": 0
          }
        }
      },
      "source": [
        "from google.colab import files\n",
        "files.download('Valid_X_with_Predicted_Vote.csv')"
      ],
      "cell_type": "code",
      "execution_count": 0,
      "outputs": []
    },
    {
      "metadata": {
        "id": "VvBkS9udwDeR",
        "colab_type": "text"
      },
      "source": [
        "#References"
      ],
      "cell_type": "markdown"
    },
    {
      "metadata": {
        "id": "sd_IpGNqwFel",
        "colab_type": "text"
      },
      "source": [
        "##### http://scikit-learn.org/stable/tutorial/statistical_inference/model_selection.html\n",
        "##### http://scikit-learn.org/stable/modules/model_evaluation.html - Best !\n",
        "##### http://scikit-learn.org/stable/modules/cross_validation.html - Best !\n",
        "\n",
        "##### http://scikit-learn.org/stable/modules/model_evaluation.html#classification-metrics - Best !\n",
        "##### http://scikit-learn.org/stable/auto_examples/model_selection/plot_confusion_matrix.html#sphx-glr-auto-examples-model-selection-plot-confusion-matrix-py - Best !\n",
        "##### http://scikit-learn.org/stable/auto_examples/model_selection/plot_grid_search_digits.html#sphx-glr-auto-examples-model-selection-plot-grid-search-digits-py\n",
        "##### http://scikit-learn.org/stable/modules/generated/sklearn.model_selection.cross_val_score.html#sklearn.model_selection.cross_val_score\n",
        "##### http://scikit-learn.org/stable/auto_examples/model_selection/plot_roc_crossval.html#sphx-glr-auto-examples-model-selection-plot-roc-crossval-py\n",
        "##### http://scikit-learn.org/stable/modules/generated/sklearn.metrics.roc_auc_score.html#sklearn.metrics.roc_auc_score\n",
        "##### http://www.ritchieng.com/machine-learning-evaluate-classification-model/\n",
        "##### http://www.ritchieng.com/machine-learning-efficiently-search-tuning-param/\n",
        "##### http://scikit-learn.org/stable/auto_examples/model_selection/plot_roc.html#multiclass-settings"
      ],
      "cell_type": "markdown"
    },
    {
      "metadata": {
        "id": "8t6FOcBK7Rgk",
        "colab_type": "text"
      },
      "source": [
        "# NOTES"
      ],
      "cell_type": "markdown"
    },
    {
      "metadata": {
        "id": "yuqJMt9-7S9y",
        "colab_type": "code",
        "colab": {
          "autoexec": {
            "startup": false,
            "wait_interval": 0
          }
        }
      },
      "source": [
        "# HERE ARE THE DATA SETS TO DOWNLOAD FROM DRIVE:\n",
        "\n",
        "#ElectionsData.csv\n",
        "#https://drive.google.com/open?id=1Xdsqn2C0XR8AQnRfkWpU2JBQfK2rURe_\n",
        "\n",
        "## NEW AFTER FIX -1:\n",
        "\n",
        "#test_X.csv\n",
        "#https://drive.google.com/open?id=10F4pfym7OgqvT1xu6Bo27WqpZjsGhhih\n",
        "\n",
        "#test_y.csv\n",
        "#https://drive.google.com/open?id=1uGX6RQFot5gww3vExfpeg1GFR8ZMFYPX\n",
        "\n",
        "#train_X.csv\n",
        "#https://drive.google.com/open?id=1mwrxBXZsgHLFO9IpWYXNfUFJnLT5yraj\n",
        "\n",
        "#train_y.csv\n",
        "#https://drive.google.com/open?id=1FHPumn9bdXiLzO5tbpGGrcvxzNpoCG0Z\n",
        "\n",
        "#validation_X.csv\n",
        "#https://drive.google.com/open?id=1HgtZC1iq9VYH8Ygo6-6XnC6G0xa8Lz01\n",
        "\n",
        "#validation_y.csv\n",
        "#https://drive.google.com/open?id=1Z_0zOORoZJVlOQ58UdXml4maSNSNBBMK"
      ],
      "cell_type": "code",
      "execution_count": 0,
      "outputs": []
    }
  ]
}